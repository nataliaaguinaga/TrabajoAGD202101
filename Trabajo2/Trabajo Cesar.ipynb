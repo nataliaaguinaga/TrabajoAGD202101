{
 "cells": [
  {
   "cell_type": "code",
   "execution_count": 98,
   "metadata": {},
   "outputs": [
    {
     "name": "stdout",
     "output_type": "stream",
     "text": [
      "Requirement already satisfied: Cython in /usr/local/lib/python3.6/dist-packages\n",
      "Requirement already satisfied: pyarrow==0.9.0 in /usr/local/lib/python3.6/dist-packages\n",
      "Requirement already satisfied: numpy>=1.10 in /usr/local/lib/python3.6/dist-packages (from pyarrow==0.9.0)\n",
      "Requirement already satisfied: six>=1.0.0 in /usr/lib/python3/dist-packages (from pyarrow==0.9.0)\n",
      "Requirement already satisfied: ts-flint in /usr/local/lib/python3.6/dist-packages\n"
     ]
    },
    {
     "ename": "ValueError",
     "evalue": "Cannot run multiple SparkContexts at once; existing SparkContext(app=Evaluacion iSofware, master=local[*]) created by __init__ at <ipython-input-1-9fb0c4765e98>:30 ",
     "output_type": "error",
     "traceback": [
      "\u001b[0;31m---------------------------------------------------------------------------\u001b[0m",
      "\u001b[0;31mValueError\u001b[0m                                Traceback (most recent call last)",
      "\u001b[0;32m<ipython-input-98-9fb0c4765e98>\u001b[0m in \u001b[0;36m<module>\u001b[0;34m\u001b[0m\n\u001b[1;32m     28\u001b[0m \u001b[0;34m\u001b[0m\u001b[0m\n\u001b[1;32m     29\u001b[0m \u001b[0;31m# definimos un espacio o contexto para la App\u001b[0m\u001b[0;34m\u001b[0m\u001b[0;34m\u001b[0m\u001b[0;34m\u001b[0m\u001b[0m\n\u001b[0;32m---> 30\u001b[0;31m \u001b[0mContextoSpark\u001b[0m\u001b[0;34m=\u001b[0m\u001b[0mSparkContext\u001b[0m\u001b[0;34m(\u001b[0m\u001b[0mconf\u001b[0m\u001b[0;34m=\u001b[0m\u001b[0mAppSpark\u001b[0m\u001b[0;34m)\u001b[0m\u001b[0;34m\u001b[0m\u001b[0;34m\u001b[0m\u001b[0m\n\u001b[0m\u001b[1;32m     31\u001b[0m \u001b[0;34m\u001b[0m\u001b[0m\n\u001b[1;32m     32\u001b[0m \u001b[0;31m# inicio una sesión en el espacio de la App\u001b[0m\u001b[0;34m\u001b[0m\u001b[0;34m\u001b[0m\u001b[0;34m\u001b[0m\u001b[0m\n",
      "\u001b[0;32m/usr/local/spark/python/pyspark/context.py\u001b[0m in \u001b[0;36m__init__\u001b[0;34m(self, master, appName, sparkHome, pyFiles, environment, batchSize, serializer, conf, gateway, jsc, profiler_cls)\u001b[0m\n\u001b[1;32m    131\u001b[0m                     \" note this option will be removed in Spark 3.0\")\n\u001b[1;32m    132\u001b[0m \u001b[0;34m\u001b[0m\u001b[0m\n\u001b[0;32m--> 133\u001b[0;31m         \u001b[0mSparkContext\u001b[0m\u001b[0;34m.\u001b[0m\u001b[0m_ensure_initialized\u001b[0m\u001b[0;34m(\u001b[0m\u001b[0mself\u001b[0m\u001b[0;34m,\u001b[0m \u001b[0mgateway\u001b[0m\u001b[0;34m=\u001b[0m\u001b[0mgateway\u001b[0m\u001b[0;34m,\u001b[0m \u001b[0mconf\u001b[0m\u001b[0;34m=\u001b[0m\u001b[0mconf\u001b[0m\u001b[0;34m)\u001b[0m\u001b[0;34m\u001b[0m\u001b[0;34m\u001b[0m\u001b[0m\n\u001b[0m\u001b[1;32m    134\u001b[0m         \u001b[0;32mtry\u001b[0m\u001b[0;34m:\u001b[0m\u001b[0;34m\u001b[0m\u001b[0;34m\u001b[0m\u001b[0m\n\u001b[1;32m    135\u001b[0m             self._do_init(master, appName, sparkHome, pyFiles, environment, batchSize, serializer,\n",
      "\u001b[0;32m/usr/local/spark/python/pyspark/context.py\u001b[0m in \u001b[0;36m_ensure_initialized\u001b[0;34m(cls, instance, gateway, conf)\u001b[0m\n\u001b[1;32m    330\u001b[0m                         \u001b[0;34m\" created by %s at %s:%s \"\u001b[0m\u001b[0;34m\u001b[0m\u001b[0;34m\u001b[0m\u001b[0m\n\u001b[1;32m    331\u001b[0m                         % (currentAppName, currentMaster,\n\u001b[0;32m--> 332\u001b[0;31m                             callsite.function, callsite.file, callsite.linenum))\n\u001b[0m\u001b[1;32m    333\u001b[0m                 \u001b[0;32melse\u001b[0m\u001b[0;34m:\u001b[0m\u001b[0;34m\u001b[0m\u001b[0;34m\u001b[0m\u001b[0m\n\u001b[1;32m    334\u001b[0m                     \u001b[0mSparkContext\u001b[0m\u001b[0;34m.\u001b[0m\u001b[0m_active_spark_context\u001b[0m \u001b[0;34m=\u001b[0m \u001b[0minstance\u001b[0m\u001b[0;34m\u001b[0m\u001b[0;34m\u001b[0m\u001b[0m\n",
      "\u001b[0;31mValueError\u001b[0m: Cannot run multiple SparkContexts at once; existing SparkContext(app=Evaluacion iSofware, master=local[*]) created by __init__ at <ipython-input-1-9fb0c4765e98>:30 "
     ]
    }
   ],
   "source": [
    "# Agrege acá el código para importar las librerias\n",
    "\n",
    "# Es una libreria que da soporte para llamar funciones, clases y tipos del Lenguaje C\n",
    "# Es un requerimiento para ts.flint\n",
    "!pip3 install Cython\n",
    "\n",
    "# Es una libreria especial para la serialización de arreglos basada en C++, permite la \n",
    "# integración entre pandas, NumPy, Spark ... \n",
    "# https://pypi.org/project/pyarrow/\n",
    "# Es un requerimiento para ts.flint\n",
    "!pip3 install pyarrow==0.9.0\n",
    "\n",
    "# Es una colección de módulos para el análisis de series de tiempo con PySpark\n",
    "# https://ts-flint.readthedocs.io/en/latest/\n",
    "!pip3 install ts-flint\n",
    "\n",
    "# La libreria para \"encontrar el sevicio\" de Spark\n",
    "import findspark\n",
    "findspark.init()\n",
    "\n",
    "# Librerias para \"gestionar el servicio\" de Spark\n",
    "from pyspark import SparkConf, SparkContext\n",
    "from pyspark.sql import SQLContext, SparkSession\n",
    "\n",
    "# Creamos una aplicación Spark en el Servicio\n",
    "# Tenga cuidado con las tildes o caracteres especiales en el nombre de la app\n",
    "AppSpark = SparkConf().setAppName(\"Evaluacion iSofware\")\n",
    "\n",
    "# definimos un espacio o contexto para la App\n",
    "ContextoSpark=SparkContext(conf=AppSpark)\n",
    "\n",
    "# inicio una sesión en el espacio de la App\n",
    "SesionSpark = SparkSession(ContextoSpark)\n",
    "\n",
    "# inicio del espacio o contexto SQL\n",
    "ContextoSql = SQLContext(sparkContext=ContextoSpark, sparkSession=SesionSpark)"
   ]
  },
  {
   "cell_type": "markdown",
   "metadata": {},
   "source": [
    "# Integrantes del equipo\n",
    "1. Catalina Gallego Yepes\n",
    "2. Cesar Augusto Hernandez Rodriguez\n",
    "3. Jessica Maria Rivera Jimenez\n",
    "4. Jose Julian Mercado Garcia\n",
    "5. Julio Cesar Vasquez Bedoya"
   ]
  },
  {
   "cell_type": "code",
   "execution_count": 110,
   "metadata": {},
   "outputs": [
    {
     "name": "stdout",
     "output_type": "stream",
     "text": [
      "Found 10 items\n",
      "drwxr-xr-x   - root root       4096 2021-05-09 23:03 .ipynb_checkpoints\n",
      "-rw-r--r--   1 root root      93121 2021-05-09 04:20 Asistencia.csv\n",
      "-rw-r--r--   1 root root     110621 2021-05-09 03:40 Datos para el Trabajo.zip\n",
      "-rw-r--r--   1 root root     111944 2021-05-09 04:21 Evaluacion.csv\n",
      "-rw-r--r--   1 root root      87599 2021-05-09 20:38 Evaluacion_Pitch_limpio.csv\n",
      "-rw-r--r--   1 root root      61180 2021-05-09 23:00 Taller (3).ipynb\n",
      "-rw-r--r--   1 root root      33555 2021-05-09 22:04 Taller_Final.ipynb\n",
      "-rw-r--r--   1 root root      38222 2021-05-10 00:42 Trabajo Final.ipynb\n",
      "drwxr-xr-x   - root root       4096 2021-05-09 05:28 spark-warehouse\n",
      "drwxr-xr-x   - root root       4096 2021-05-09 04:21 tmp\n"
     ]
    }
   ],
   "source": [
    "!hdfs dfs -ls"
   ]
  },
  {
   "cell_type": "code",
   "execution_count": 111,
   "metadata": {},
   "outputs": [
    {
     "name": "stdout",
     "output_type": "stream",
     "text": [
      "copyFromLocal: `/tmp/Asistencia.csv': File exists\n",
      "copyFromLocal: `/tmp/Evaluacion_Pitch_limpio.csv': File exists\n"
     ]
    }
   ],
   "source": [
    "# 1. Cargue los datos en la carpeta datalake y luego del /datalake al HDFS (Hadoop File System)\n",
    "# Recuerda usar ! para ejecutar el comando en el shell. \n",
    "# Tu código a continuación...\n",
    "\n",
    "!hdfs dfs -copyFromLocal  Asistencia.csv /tmp/\n",
    "!hdfs dfs -copyFromLocal  Evaluacion_Pitch_limpio.csv /tmp/\n",
    "\n",
    "Asistencia = ContextoSql.read.load('/tmp/Asistencia.csv',\n",
    "                                   format=\"csv\",\n",
    "                                   sep=',',\n",
    "                                   inferSchema='true',\n",
    "                                   header='true')\n",
    "Evaluacion = ContextoSql.read.load('/tmp/Evaluacion_Pitch_limpio.csv',\n",
    "                                   format=\"csv\",\n",
    "                                   sep=';',\n",
    "                                   inferSchema='true',\n",
    "                                   header='true')"
   ]
  },
  {
   "cell_type": "code",
   "execution_count": 112,
   "metadata": {},
   "outputs": [
    {
     "name": "stdout",
     "output_type": "stream",
     "text": [
      "root\n",
      " |-- Marca_temporal: string (nullable = true)\n",
      " |-- Nombre_de_usuario: string (nullable = true)\n",
      " |-- Equipo_al_que_perteneces: string (nullable = true)\n",
      " |-- Equipo_que_va_a_exponer: string (nullable = true)\n",
      "\n"
     ]
    }
   ],
   "source": [
    "df_Asistencia = Asistencia.withColumnRenamed(\"Marca temporal\",\"Marca_temporal\")\\\n",
    "                           .withColumnRenamed(\"Nombre de usuario\",\"Nombre_de_usuario\")\\\n",
    "                           .withColumnRenamed(\"Equipo al que perteneces:\",\"Equipo_al_que_perteneces\")\\\n",
    "                           .withColumnRenamed(\"Equipo que va a exponer:\",\"Equipo_que_va_a_exponer\")\\\n",
    "\n",
    "df_Asistencia.printSchema()\n",
    "\n"
   ]
  },
  {
   "cell_type": "code",
   "execution_count": 102,
   "metadata": {},
   "outputs": [
    {
     "name": "stdout",
     "output_type": "stream",
     "text": [
      "root\n",
      " |-- Marca_temporal: string (nullable = true)\n",
      " |-- Nombre_de_usuario: string (nullable = true)\n",
      " |-- Equipo_a_evaluar: string (nullable = true)\n",
      " |-- Introduccion: integer (nullable = true)\n",
      " |-- Equipo: integer (nullable = true)\n",
      " |-- Problema: integer (nullable = true)\n",
      " |-- Ventajas: integer (nullable = true)\n",
      " |-- Solucion: integer (nullable = true)\n",
      " |-- Producto: integer (nullable = true)\n",
      " |-- Traccion: integer (nullable = true)\n",
      " |-- Mercado: integer (nullable = true)\n",
      " |-- Competencia: integer (nullable = true)\n",
      " |-- Modelo_de_negocio: integer (nullable = true)\n",
      " |-- Inversion: integer (nullable = true)\n",
      " |-- Contacto: integer (nullable = true)\n",
      " |-- Exposicion1: integer (nullable = true)\n",
      " |-- Exposicion2: integer (nullable = true)\n",
      " |-- Exposicion3: integer (nullable = true)\n",
      " |-- supuesto_pagar: string (nullable = true)\n",
      " |-- Observaciones: string (nullable = true)\n",
      "\n"
     ]
    }
   ],
   "source": [
    "df_Evaluacion = Evaluacion.withColumnRenamed(\"Marca temporal\",\"Marca_temporal\")\\\n",
    "                        .withColumnRenamed(\"Nombre de usuario\",\"Nombre_de_usuario\")\\\n",
    "                        .withColumnRenamed(\"Equipo que vas a evaluar:\",\"Equipo_a_evaluar\")\\\n",
    "                        .withColumnRenamed(\"Introducción: El equipo responde adecuadamente ¿Quiénes son y por qué están aquí?\",\"Introduccion\")\\\n",
    "                        .withColumnRenamed(\"Equipo: El equipo responde adecuadamente ¿Quiénes están detrás de la idea y cuál es su función?\",\"Equipo\")\\\n",
    "                        .withColumnRenamed(\"Problema: El equipo responde adecuadamente ¿Qué problema resolverá?, ¿es realmente un problema?\",\"Problema\")\\\n",
    "                        .withColumnRenamed(\"Ventajas: El equipo responde adecuadamente ¿Por qué su solución es especial?, ¿qué la hace distinta de otras?\",\"Ventajas\")\\\n",
    "                        .withColumnRenamed(\"Solución: El equipo responde adecuadamente ¿Cómo piensa resolver el problema?\",\"Solucion\")\\\n",
    "                        .withColumnRenamed(\"Producto: El equipo responde adecuadamente ¿Cómo funciona el producto o servicio? Muestra algunos ejemplos.\",\"Producto\")\\\n",
    "                        .withColumnRenamed(\"Tracción: El equipo responde adecuadamente si cuenta con clientes que demuestran potencial.\",\"Traccion\")\\\n",
    "                        .withColumnRenamed(\"Mercado: El equipo responde conoce, o por lo menos intentar predecir, el tamaño del mercado que impactará.\",\"Mercado\")\\\n",
    "                        .withColumnRenamed(\"Competencia: El equipo responde adecuadamente ¿Cuáles son las soluciones alternativas al problema que plantea?\",\"Competencia\")\\\n",
    "                        .withColumnRenamed(\"Modelo de negocio: El equipo responde adecuadamente ¿Cómo hará dinero? \",\"Modelo_de_negocio\")\\\n",
    "                        .withColumnRenamed(\"Inversión: El equipo responde adecuadamente ¿Cuál es su presupuesto y cuánto espera ganar?\",\"Inversion\")\\\n",
    "                        .withColumnRenamed(\"Contacto: El equipo deja los datos al cliente y muestra cómo pueden contactarle.\",\"Contacto\")\\\n",
    "                        .withColumnRenamed(\"Exposición: ¿Qué tan coordinados estaban los expositores?\",\"Exposicion1\")\\\n",
    "                        .withColumnRenamed(\"Exposición: ¿Los expositores se expresaron con claridad y se hicieron entender?\",\"Exposicion2\")\\\n",
    "                        .withColumnRenamed(\"Exposición: Las diapositivas son claras y coherentes y apoyaron adecuadamente la exposición.\",\"Exposicion3\")\\\n",
    "                        .withColumnRenamed(\"Suponiendo que eres inversionista, ¿Estarías dispuesto a invertir dinero en este equipo? (esta pregunta no se pondera en la nota)\",\"supuesto_pagar\")\\\n",
    "                        .withColumnRenamed(\"Observaciones para el equipo, estas observaciones las debe considerar el equipo para mejorar la siguiente presentación.\",\"Observaciones\")\\\n",
    "\n",
    "df_Evaluacion.printSchema()\n",
    "\n"
   ]
  },
  {
   "cell_type": "code",
   "execution_count": 103,
   "metadata": {},
   "outputs": [
    {
     "name": "stdout",
     "output_type": "stream",
     "text": [
      "+--------------------+\n",
      "|   Nombre_de_usuario|\n",
      "+--------------------+\n",
      "| abanolc@unal.edu.co|\n",
      "|acastrillonv@unal...|\n",
      "| aflemag@unal.edu.co|\n",
      "|anapariciom@unal....|\n",
      "|angutierrezb@unal...|\n",
      "|anoriega@unal.edu.co|\n",
      "|auarbelaeza@unal....|\n",
      "| bocampo@unal.edu.co|\n",
      "|cgiraldo@unal.edu.co|\n",
      "|cjfunezg@unal.edu.co|\n",
      "+--------------------+\n",
      "only showing top 10 rows\n",
      "\n"
     ]
    }
   ],
   "source": [
    "# 2. Cree dos tablas SparkSQL y almacene el csv en su correspondiente tabla.\n",
    "# Observación: tenga especial cuidado con los encabezados de los archivos CSV.\n",
    "# Usted puede considerar cambiar los encabezados de los CSV originales\n",
    "# Tu código a continuación...\n",
    "\n",
    "df_Asistencia.createOrReplaceTempView('Vista_Asistencia')\n",
    "\n",
    "ContextoSql.sql(\"\"\"\n",
    "select distinct Nombre_de_usuario\n",
    "from Vista_Asistencia\n",
    "order by Nombre_de_usuario\n",
    "\"\"\").show(10)\n"
   ]
  },
  {
   "cell_type": "code",
   "execution_count": 104,
   "metadata": {},
   "outputs": [
    {
     "name": "stdout",
     "output_type": "stream",
     "text": [
      "+--------------------+--------------------+--------------------+--------+\n",
      "|   Nombre_de_usuario|  max_Marca_temporal|  min_Marca_temporal|count(1)|\n",
      "+--------------------+--------------------+--------------------+--------+\n",
      "|samolinap@unal.ed...|2021/04/13 9:37:2...|2021/04/08 8:11:4...|      10|\n",
      "| jruedat@unal.edu.co|2021/04/13 9:41:2...|2021/04/08 8:12:5...|       8|\n",
      "|nvalenciat@unal.e...|2021/04/13 9:39:3...|2021/04/08 8:10:1...|       8|\n",
      "|serendona@unal.ed...|2021/04/13 9:40:2...|2021/04/08 8:10:4...|       8|\n",
      "|jgutierrezlo@unal...|2021/04/13 9:39:0...|2021/04/08 8:12:0...|       8|\n",
      "|dgerenal@unal.edu.co|2021/04/13 9:41:2...|2021/04/08 8:10:0...|       8|\n",
      "|cjfunezg@unal.edu.co|2021/04/13 9:41:4...|2021/04/08 8:12:1...|       8|\n",
      "|emflorezb@unal.ed...|2021/04/13 9:45:4...|2021/04/08 8:14:0...|       8|\n",
      "|dchavarriar@unal....|2021/04/13 9:43:5...|2021/04/08 8:13:0...|       8|\n",
      "|fguerrerot@unal.e...|2021/04/13 9:40:1...|2021/04/08 8:13:0...|       8|\n",
      "|jdroldano@unal.ed...|2021/04/08 8:20:1...|2021/04/08 8:20:1...|       1|\n",
      "|jovillarrealm@una...|2021/04/13 9:42:5...|2021/04/08 10:02:...|      10|\n",
      "|juriveras@unal.ed...|2021/04/13 9:41:1...|2021/04/08 8:13:3...|       8|\n",
      "|dguardia@unal.edu.co|2021/04/13 9:40:3...|2021/04/08 8:12:5...|       8|\n",
      "| lrdiaza@unal.edu.co|2021/04/13 9:45:2...|2021/04/08 8:14:5...|       7|\n",
      "|fmiranda@unal.edu.co|2021/04/13 9:45:0...|2021/04/08 8:10:1...|       8|\n",
      "|dcadavid@unal.edu.co|2021/04/13 9:40:5...|2021/04/08 8:13:0...|       8|\n",
      "| bocampo@unal.edu.co|2021/04/13 9:42:1...|2021/04/08 8:13:3...|       8|\n",
      "|rmbuilesm@unal.ed...|2021/04/13 9:41:3...|2021/04/08 8:14:1...|       9|\n",
      "|jmunozhe@unal.edu.co|2021/04/13 9:10:1...|2021/04/08 8:09:5...|       8|\n",
      "|juortizt@unal.edu.co|2021/04/13 9:36:5...|2021/04/08 8:10:3...|       8|\n",
      "|eporrasm@unal.edu.co|2021/04/13 9:42:1...|2021/04/08 8:10:3...|       7|\n",
      "|jubuitrago@unal.e...|2021/04/13 9:41:1...|2021/04/08 8:13:0...|       8|\n",
      "|acastrillonv@unal...|2021/04/13 9:43:1...|2021/04/08 8:13:0...|       8|\n",
      "| mcallea@unal.edu.co|2021/04/13 9:42:2...|2021/04/08 8:13:2...|       8|\n",
      "|jlopezpe@unal.edu.co|2021/04/13 9:09:3...|2021/04/08 8:10:5...|       9|\n",
      "| kmolano@unal.edu.co|2021/04/13 9:40:5...|2021/04/08 8:13:0...|       8|\n",
      "|sasalazarr@unal.e...|2021/04/13 9:40:3...|2021/04/08 8:13:2...|       9|\n",
      "|elondonoc@unal.ed...|2021/04/13 9:41:2...|2021/04/08 8:13:4...|       8|\n",
      "| eapenad@unal.edu.co|2021/04/13 9:39:4...|2021/04/08 8:12:5...|       8|\n",
      "+--------------------+--------------------+--------------------+--------+\n",
      "only showing top 30 rows\n",
      "\n"
     ]
    }
   ],
   "source": [
    "# 3. Consulte la cantidad de asistencias registradas por estudiante; además, la fecha y hora de la primera asistencia\n",
    "# y la fecha y hora de la última asistencia\n",
    "# Tu código a continuación...\n",
    "\n",
    "df_Asistencia.createOrReplaceTempView('Vista_conteo')\n",
    "\n",
    "ContextoSql.sql(\"\"\"\n",
    "\n",
    "SELECT Nombre_de_usuario,max(Marca_temporal) as max_Marca_temporal , min(Marca_temporal) as min_Marca_temporal , count(*)\n",
    "from Vista_conteo\n",
    "group by 1\n",
    "\"\"\").show(30)"
   ]
  },
  {
   "cell_type": "code",
   "execution_count": 105,
   "metadata": {},
   "outputs": [
    {
     "name": "stdout",
     "output_type": "stream",
     "text": [
      "+--------------------+------+\n",
      "|   Nombre_de_usuario|conteo|\n",
      "+--------------------+------+\n",
      "|jdroldano@unal.ed...|     1|\n",
      "+--------------------+------+\n",
      "\n"
     ]
    }
   ],
   "source": [
    "# 4. Consulte el listado de estudiantes que asistieron a 2 presentaciones o menos (una).\n",
    "# Tu código a continuación...\n",
    "\n",
    "\n",
    "df_Asistencia.createOrReplaceTempView('Vista_conteo')\n",
    "\n",
    "ContextoSql.sql(\"\"\"\n",
    "\n",
    "SELECT Nombre_de_usuario, count(*) as conteo\n",
    "from Vista_conteo \n",
    "group by 1\n",
    "having conteo>=1 and conteo<=2\n",
    "\n",
    "\"\"\").show(30)"
   ]
  },
  {
   "cell_type": "code",
   "execution_count": 16,
   "metadata": {},
   "outputs": [],
   "source": [
    "# 5. Consulte el listado de estudiantes que no asistieron a ninguna presentación.\n",
    "# Tu código a continuación...\n",
    "\n",
    "revisar todos los que evaluaron y asistencias , left desde evaluaron + usuario asistencia , "
   ]
  },
  {
   "cell_type": "code",
   "execution_count": 17,
   "metadata": {},
   "outputs": [
    {
     "name": "stdout",
     "output_type": "stream",
     "text": [
      "+--------------------+------------------------+\n",
      "|   Nombre_de_usuario|Equipo_al_que_perteneces|\n",
      "+--------------------+------------------------+\n",
      "| wocampo@unal.edu.co|    Pertenezco a: Lo ...|\n",
      "|   tleon@unal.edu.co|    Pertenezco a: Mi ...|\n",
      "|serendona@unal.ed...|    Pertenezco a: Ges...|\n",
      "|sednarvaezna@unal...|    Pertenezco a: Adm...|\n",
      "|sebermudezg@unal....|    Pertenezco a: Ser...|\n",
      "|seagudeloo@unal.e...|    Pertenezco a: Ges...|\n",
      "|sasalazarr@unal.e...|    Pertenezco a: Te ...|\n",
      "|samolinap@unal.ed...|    Pertenezco a: Adm...|\n",
      "|saespinosab@unal....|    Pertenezco a: Adm...|\n",
      "|sacastrot@unal.ed...|    Pertenezco a: Ser...|\n",
      "|rmbuilesm@unal.ed...|    Pertenezco a: Adm...|\n",
      "|parestrepoo@unal....|    Pertenezco a: Te ...|\n",
      "|nvalenciat@unal.e...|    Pertenezco a: Te ...|\n",
      "|nsalinas@unal.edu.co|    Pertenezco a: Adm...|\n",
      "|mizapataa@unal.ed...|    Pertenezco a: Ges...|\n",
      "|mimorenov@unal.ed...|    Pertenezco a: Te ...|\n",
      "|mhernandezbe@unal...|    Pertenezco a: Te ...|\n",
      "|mcarvajalsa@unal....|    Pertenezco a: Ges...|\n",
      "|mcarvajalsa@unal....|    Pertenezco a: Ges...|\n",
      "| mcallea@unal.edu.co|    Pertenezco a: Mi ...|\n",
      "+--------------------+------------------------+\n",
      "only showing top 20 rows\n",
      "\n"
     ]
    }
   ],
   "source": [
    "# 6. Consulte los integrantes por cada equipo al que pertenecen.\n",
    "# Tu código a continuación...\n",
    "\n",
    "df_Asistencia.createOrReplaceTempView('Equipo_perteneces')\n",
    "\n",
    "ContextoSql.sql(\"\"\"\n",
    "select distinct Nombre_de_usuario,Equipo_al_que_perteneces from Equipo_perteneces\n",
    "order by 1 desc\n",
    "\"\"\").show()"
   ]
  },
  {
   "cell_type": "code",
   "execution_count": 116,
   "metadata": {},
   "outputs": [
    {
     "name": "stdout",
     "output_type": "stream",
     "text": [
      "+-----------------------+------------------------+\n",
      "|Equipo_que_va_a_exponer|count(Nombre_de_usuario)|\n",
      "+-----------------------+------------------------+\n",
      "|   Expone: Administr...|                      70|\n",
      "|   Expone: Deserción...|                       3|\n",
      "|   Expone: Gestión d...|                      72|\n",
      "|   Expone: Gestión d...|                      72|\n",
      "|   Expone: Gestión d...|                      74|\n",
      "|   Expone: Lo tengo ...|                      75|\n",
      "|   Expone: Mi Sanand...|                      72|\n",
      "|   Expone: Servicios...|                      76|\n",
      "|   Expone: Te lo cam...|                      75|\n",
      "+-----------------------+------------------------+\n",
      "\n"
     ]
    }
   ],
   "source": [
    "# 7. Consulte la cantidad de asistentes por presentación, sin considerar los asistentes que pertenecen \n",
    "# al equipo que realizó la presentación.\n",
    "# Tu código a continuación...\n",
    "\n",
    "df_Asistencia.createOrReplaceTempView('Equipo_perteneces')\n",
    "\n",
    "ContextoSql.sql(\"\"\"\n",
    "select \n",
    "Equipo_que_va_a_exponer, \n",
    "count(Nombre_de_usuario) \n",
    "from Equipo_perteneces\n",
    "where substring(Equipo_que_va_a_exponer,9,length(Equipo_que_va_a_exponer)) != substring(Equipo_al_que_perteneces,15,length(Equipo_al_que_perteneces))  --trim , upper \n",
    "group by 1 \n",
    "ORDER BY 1 asc\n",
    "\"\"\").show()"
   ]
  },
  {
   "cell_type": "code",
   "execution_count": 106,
   "metadata": {},
   "outputs": [
    {
     "name": "stdout",
     "output_type": "stream",
     "text": [
      "+--------------------+\n",
      "|   Nombre_de_usuario|\n",
      "+--------------------+\n",
      "| jruedat@unal.edu.co|\n",
      "| kmolano@unal.edu.co|\n",
      "|mcarvajalsa@unal....|\n",
      "|daestradam@unal.e...|\n",
      "|jhcordoba@unal.ed...|\n",
      "|  lmayar@unal.edu.co|\n",
      "|hriveraa@unal.edu.co|\n",
      "|anapariciom@unal....|\n",
      "+--------------------+\n",
      "\n"
     ]
    }
   ],
   "source": [
    "# 8. Consutar cuáles integrantes evaluaron a su propio equipo. Estas evaluaciones no serán válidas, pues un\n",
    "# integrante no puede evaluar a su propio equipo.\n",
    "# Tu código a continuación...\n",
    "\n",
    "df_Asistencia.createOrReplaceTempView('Equipo_perteneces')\n",
    "df_Evaluacion.createOrReplaceTempView('Equipo_Evaluacion')\n",
    "\n",
    "ContextoSql.sql(\"\"\"\n",
    "WITH BASE_ASISTENCIAS AS (\n",
    "select \n",
    "Equipo_que_va_a_exponer, \n",
    "Equipo_al_que_perteneces,\n",
    "Nombre_de_usuario,\n",
    "substring(Equipo_al_que_perteneces,15,15) as llave_equipo_pertenece,\n",
    "substring(Equipo_que_va_a_exponer,9,15) as llave_equipo_exponer\n",
    "from Equipo_perteneces\n",
    "),   BASE_EVALUACION AS (\n",
    "select \n",
    "Nombre_de_usuario,\n",
    "substring(Equipo_a_evaluar,1,15) as llave_Equipo_a_evaluar,\n",
    "Equipo_a_evaluar\n",
    "from Equipo_Evaluacion\n",
    "\n",
    ")\n",
    "SELECT  DISTINCT  t1.Nombre_de_usuario\n",
    "FROM BASE_ASISTENCIAS t1 \n",
    "inner join BASE_EVALUACION t2 on t1.Nombre_de_usuario=t2.Nombre_de_usuario  AND  T1.llave_equipo_pertenece=t2.llave_Equipo_a_evaluar\n",
    "--GROUP BY 1,2,3\n",
    "\"\"\").show()\n"
   ]
  },
  {
   "cell_type": "code",
   "execution_count": 121,
   "metadata": {},
   "outputs": [
    {
     "name": "stdout",
     "output_type": "stream",
     "text": [
      "+--------------------+----+----+----+----+----+----+----+----+----+----+----+----+----+----+----+--------------+\n",
      "|    Equipo_a_evaluar|   a|   b|   c|   d|   e|   f|   g|   h|   i|   j|   k|   l|   m|   n|   o|PROMEDIO_TOTAL|\n",
      "+--------------------+----+----+----+----+----+----+----+----+----+----+----+----+----+----+----+--------------+\n",
      "|Administración de...|4.11|4.42|3.97|3.91|4.17|4.44|4.03|4.43|3.93|4.42|4.11|4.14|4.31|4.22|4.13|          4.18|\n",
      "|Deserción de estu...| 4.5| 5.0| 5.0| 5.0| 4.5| 5.0| 5.0| 4.5| 5.0| 4.5| 4.5| 5.0| 4.5| 4.5| 5.0|          4.77|\n",
      "|Gestión de Menús ...|4.33|3.98|4.56|4.31|4.38|4.01|4.19|4.21|4.29|4.63| 4.3| 4.5|4.47|4.44|4.73|          4.36|\n",
      "|Gestión de Reside...|4.55|4.45|4.64|4.46|4.45|4.12|4.53|4.71|4.41|4.52|4.34|4.66|4.42|4.51|4.42|          4.48|\n",
      "|Gestión de progra...|4.38| 4.4|4.55|3.92|4.34|4.45|4.42| 4.5|4.28|4.32|4.54|4.43|4.45|4.49|4.63|          4.41|\n",
      "|Lo tengo y te lo ...|4.49| 4.6|4.27|4.43|4.42|4.72|4.36|4.25|4.49|4.47|4.36|4.59|4.53| 4.6|4.61|          4.48|\n",
      "|     Mi Sanandresito|4.23|3.93|4.32|4.03|4.33|4.32|4.25|4.38|3.54|4.36|4.38|4.63|4.29|4.18|4.13|          4.22|\n",
      "|Servicios a domic...|4.49|4.63|4.51|4.27| 4.5|4.61| 4.1|4.12|4.36|4.27|4.16|4.65|4.49|4.56|4.59|          4.42|\n",
      "|       Te lo cambio.|4.35|4.02|4.22| 4.0|4.44|4.84|4.09|4.09| 4.2|4.32|3.59| 4.5|4.57|4.46|4.55|          4.28|\n",
      "+--------------------+----+----+----+----+----+----+----+----+----+----+----+----+----+----+----+--------------+\n",
      "\n"
     ]
    }
   ],
   "source": [
    "# 9. Consultar la nota promedio por cada ítem (1 al 15), y la nota promedio total del cada equipo. Recuerde que no\n",
    "# son válidas las evaluaciones realizadas por los miembros del mismo equipo.\n",
    "# Tu código a continuación...\n",
    "\n",
    "\n",
    "ContextoSql.sql(\"\"\"\n",
    "\n",
    "WITH \n",
    "BASE_ASISTENCIAS AS (\n",
    "select \n",
    "Equipo_que_va_a_exponer, \n",
    "Equipo_al_que_perteneces,\n",
    "Nombre_de_usuario,\n",
    "substring(Equipo_al_que_perteneces,15,15) as llave_equipo_pertenece,\n",
    "substring(Equipo_que_va_a_exponer,9,15) as llave_equipo_exponer\n",
    "from Equipo_perteneces\n",
    "),   BASE_EVALUACION AS (\n",
    "select *,\n",
    "substring(Equipo_a_evaluar,1,15) as llave_Equipo_a_evaluar\n",
    "\n",
    "from Equipo_Evaluacion\n",
    "),\n",
    "\n",
    "ASISTENTES_REALES AS (\n",
    "SELECT \n",
    "t1.Nombre_de_usuario,\n",
    "T1.Equipo_al_que_perteneces,\n",
    "T2.*\n",
    "\n",
    "FROM BASE_ASISTENCIAS t1 \n",
    "inner join BASE_EVALUACION t2 on t1.Nombre_de_usuario=t2.Nombre_de_usuario\n",
    "WHERE T1.llave_equipo_pertenece !=t2.llave_Equipo_a_evaluar \n",
    ")\n",
    "\n",
    "    select Equipo_a_evaluar,\n",
    "    ROUND(AVG(Introduccion),2) as a, \n",
    "    ROUND(AVG(Equipo),2) as b, \n",
    "    ROUND(AVG(Problema),2) as c, \n",
    "    ROUND(AVG(ventajas),2) as d, \n",
    "    ROUND(AVG(Solucion),2) as e,\n",
    "    ROUND(AVG(Producto),2) as f,\n",
    "    ROUND(AVG(Traccion),2) as g,\n",
    "    ROUND(AVG(Mercado),2) as h,\n",
    "    ROUND(AVG(Competencia),2) as i,\n",
    "    ROUND(AVG(Modelo_de_negocio),2) as j,\n",
    "    ROUND(AVG(inversion),2) as k,\n",
    "    ROUND(AVG(contacto),2) as l,\n",
    "    ROUND(AVG(Exposicion1),2) as m, \n",
    "    ROUND(AVG(Exposicion2),2) as n, \n",
    "    ROUND(AVG(Exposicion3),2) as o,\n",
    "    ROUND(AVG(Introduccion+Equipo+Problema+ventajas+Solucion+Producto+Traccion+Mercado+Competencia+Modelo_de_negocio+inversion+contacto+Exposicion1+Exposicion2+Exposicion3)/15,2) AS PROMEDIO_TOTAL\n",
    "\n",
    "    from ASISTENTES_REALES\n",
    "    group by Equipo_a_evaluar\n",
    "    order by Equipo_a_evaluar\n",
    "\n",
    "\"\"\").show()\n"
   ]
  },
  {
   "cell_type": "code",
   "execution_count": 140,
   "metadata": {},
   "outputs": [
    {
     "name": "stdout",
     "output_type": "stream",
     "text": [
      "+--------------------+----+----+\n",
      "|    Equipo_a_evaluar|item|nota|\n",
      "+--------------------+----+----+\n",
      "|Gestión de Reside...|   a|4.55|\n",
      "|Deserción de estu...|   b| 5.0|\n",
      "|Deserción de estu...|   c| 5.0|\n",
      "|Deserción de estu...|   d| 5.0|\n",
      "|Deserción de estu...|   e| 4.5|\n",
      "|Servicios a domic...|   e| 4.5|\n",
      "|Deserción de estu...|   f| 5.0|\n",
      "|Deserción de estu...|   g| 5.0|\n",
      "|Gestión de Reside...|   h|4.71|\n",
      "|Deserción de estu...|   i| 5.0|\n",
      "|Gestión de Menús ...|   j|4.63|\n",
      "+--------------------+----+----+\n",
      "\n"
     ]
    }
   ],
   "source": [
    "# 10. Consulte el mejor equipo evaluado por cada ítem (según nota promedio. En caso de empate mostrar todos los empatados) \n",
    "# y el mejor equipo según el promedio total.\n",
    "# Tu código a continuación...\n",
    "\n",
    "\n",
    "ContextoSql.sql(\"\"\"\n",
    "\n",
    "\n",
    "WITH \n",
    "BASE_ASISTENCIAS AS (\n",
    "select \n",
    "Equipo_que_va_a_exponer, \n",
    "Equipo_al_que_perteneces,\n",
    "Nombre_de_usuario,\n",
    "substring(Equipo_al_que_perteneces,15,15) as llave_equipo_pertenece,\n",
    "substring(Equipo_que_va_a_exponer,9,15) as llave_equipo_exponer\n",
    "from Equipo_perteneces\n",
    "),   BASE_EVALUACION AS (\n",
    "select *,\n",
    "substring(Equipo_a_evaluar,1,15) as llave_Equipo_a_evaluar\n",
    "\n",
    "from Equipo_Evaluacion\n",
    "),\n",
    "\n",
    "ASISTENTES_REALES AS (\n",
    "SELECT \n",
    "t1.Nombre_de_usuario,\n",
    "T1.Equipo_al_que_perteneces,\n",
    "T2.*\n",
    "\n",
    "FROM BASE_ASISTENCIAS t1 \n",
    "inner join BASE_EVALUACION t2 on t1.Nombre_de_usuario=t2.Nombre_de_usuario\n",
    "WHERE T1.llave_equipo_pertenece !=t2.llave_Equipo_a_evaluar \n",
    "), final as (\n",
    "\n",
    "    select Equipo_a_evaluar,\n",
    "    ROUND(AVG(Introduccion),2) as a, \n",
    "    ROUND(AVG(Equipo),2) as b, \n",
    "    ROUND(AVG(Problema),2) as c, \n",
    "    ROUND(AVG(ventajas),2) as d, \n",
    "    ROUND(AVG(Solucion),2) as e,\n",
    "    ROUND(AVG(Producto),2) as f,\n",
    "    ROUND(AVG(Traccion),2) as g,\n",
    "    ROUND(AVG(Mercado),2) as h,\n",
    "    ROUND(AVG(Competencia),2) as i,\n",
    "    ROUND(AVG(Modelo_de_negocio),2) as j,\n",
    "    ROUND(AVG(inversion),2) as k,\n",
    "    ROUND(AVG(contacto),2) as l,\n",
    "    ROUND(AVG(Exposicion1),2) as m, \n",
    "    ROUND(AVG(Exposicion2),2) as n, \n",
    "    ROUND(AVG(Exposicion3),2) as o,\n",
    "    ROUND(AVG(Introduccion+Equipo+Problema+ventajas+Solucion+Producto+Traccion+Mercado+Competencia+Modelo_de_negocio+inversion+contacto+Exposicion1+Exposicion2+Exposicion3)/15,2) AS PROMEDIO_TOTAL\n",
    "\n",
    "    from ASISTENTES_REALES\n",
    "    group by Equipo_a_evaluar\n",
    "    order by Equipo_a_evaluar\n",
    ")\n",
    "\n",
    "select Equipo_a_evaluar, 'a' as item ,a as nota\n",
    "from final inner join\n",
    "(select max(a) nota\n",
    "from final)  y on final.a=y.nota\n",
    "union all\n",
    "select Equipo_a_evaluar, 'b' as item  ,b as nota\n",
    "from final inner join\n",
    "(select max(b) nota\n",
    "from final)  y on final.b=y.nota\n",
    "\n",
    "union all\n",
    "select Equipo_a_evaluar, 'c' as item  ,c as nota\n",
    "from final inner join\n",
    "(select max(c) nota\n",
    "from final)  y on final.c=y.nota\n",
    "\n",
    "union all\n",
    "select Equipo_a_evaluar, 'd' as item  ,d as nota\n",
    "from final inner join\n",
    "(select max(d) nota\n",
    "from final)  y on final.d=y.nota\n",
    "union all\n",
    "select Equipo_a_evaluar, 'e' as item  ,e as nota\n",
    "from final inner join\n",
    "(select max(e) nota\n",
    "from final)  y on final.e=y.nota\n",
    "union all\n",
    "select Equipo_a_evaluar, 'f' as item  ,f as nota\n",
    "from final inner join\n",
    "(select max(f) nota\n",
    "from final)  y on final.f=y.nota\n",
    "union all\n",
    "select Equipo_a_evaluar, 'g' as item  ,g as nota\n",
    "from final inner join\n",
    "(select max(g) nota\n",
    "from final)  y on final.g=y.nota\n",
    "union all\n",
    "select Equipo_a_evaluar, 'h' as item  ,h as nota\n",
    "from final inner join\n",
    "(select max(h) nota\n",
    "from final)  y on final.h=y.nota\n",
    "union all\n",
    "select Equipo_a_evaluar, 'i' as item  ,i as nota\n",
    "from final inner join\n",
    "(select max(i) nota\n",
    "from final)  y on final.i=y.nota\n",
    "union all\n",
    "select Equipo_a_evaluar, 'j' as item  ,j as nota\n",
    "from final inner join\n",
    "(select max(j) nota\n",
    "from final)  y on final.j=y.nota\n",
    "\n",
    "\n",
    "\"\"\").show()\n"
   ]
  },
  {
   "cell_type": "code",
   "execution_count": null,
   "metadata": {},
   "outputs": [],
   "source": [
    "# 11. Consulte el peor equipo evaluado por cada ítem (según nota promedio. En caso de empate mostrar todos los empatados) \n",
    "# y el peor equipo según el promedio total.\n",
    "# Tu código a continuación...\n",
    "\n"
   ]
  },
  {
   "cell_type": "code",
   "execution_count": null,
   "metadata": {},
   "outputs": [],
   "source": [
    "\n",
    "# 12. Consulte la lista de estudiantes con la correspondiente nota obtenida en la presentación \n",
    "# (nota promedio total de la evaluación obtenida por el equipo)\n",
    "# Tu código a continuación...\n"
   ]
  }
 ],
 "metadata": {
  "kernelspec": {
   "display_name": "Python 3",
   "language": "python",
   "name": "python3"
  },
  "language_info": {
   "codemirror_mode": {
    "name": "ipython",
    "version": 3
   },
   "file_extension": ".py",
   "mimetype": "text/x-python",
   "name": "python",
   "nbconvert_exporter": "python",
   "pygments_lexer": "ipython3",
   "version": "3.6.9"
  }
 },
 "nbformat": 4,
 "nbformat_minor": 4
}
