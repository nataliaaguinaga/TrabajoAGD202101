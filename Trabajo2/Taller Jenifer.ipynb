{
 "cells": [
  {
   "cell_type": "code",
   "execution_count": 1,
   "metadata": {},
   "outputs": [],
   "source": [
    "# Agrege acá el código para importar las librerias\n",
    "\n",
    "# La libreria para \"encontrar el sevicio\" de Spark\n",
    "import findspark\n",
    "findspark.init()\n",
    "\n",
    "# Librerias para \"gestionar el servicio\" de Spark\n",
    "from pyspark import SparkConf, SparkContext\n",
    "from pyspark.sql import SQLContext, SparkSession\n",
    "\n",
    "# Creamos una aplicación Spark en el Servicio\n",
    "# Tenga cuidado con las tildes o caracteres especiales en el nombre de la app\n",
    "AppSpark = SparkConf().setAppName(\"Evaluacion iSofware\")\n",
    "\n",
    "# definimos un espacio o contexto para la App\n",
    "ContextoSpark=SparkContext(conf=AppSpark)\n",
    "\n",
    "# inicio una sesión en el espacio de la App\n",
    "SesionSpark = SparkSession(ContextoSpark)\n",
    "\n",
    "# inicio del espacio o contexto SQL\n",
    "ContextoSql = SQLContext(sparkContext=ContextoSpark, sparkSession=SesionSpark)"
   ]
  },
  {
   "cell_type": "code",
   "execution_count": 2,
   "metadata": {},
   "outputs": [],
   "source": [
    "!hadoop fs -ls"
   ]
  },
  {
   "cell_type": "code",
   "execution_count": 89,
   "metadata": {},
   "outputs": [
    {
     "name": "stdout",
     "output_type": "stream",
     "text": [
      "Deleted /tmp/Evaluacion.csv\n"
     ]
    }
   ],
   "source": [
    "#!hdfs dfs -rm /tmp/Asistencia1.csv\n",
    "#!hdfs dfs -rm /tmp/Asistencia2.csv\n",
    "#!hdfs dfs -rm /tmp/Evaluacion.csv"
   ]
  },
  {
   "cell_type": "code",
   "execution_count": 3,
   "metadata": {},
   "outputs": [],
   "source": [
    "!hdfs dfs -copyFromLocal  Asistencia.csv /tmp/"
   ]
  },
  {
   "cell_type": "code",
   "execution_count": 5,
   "metadata": {},
   "outputs": [
    {
     "name": "stdout",
     "output_type": "stream",
     "text": [
      "copyFromLocal: `/tmp/Evaluacion.csv': File exists\n"
     ]
    }
   ],
   "source": [
    "!hdfs dfs -copyFromLocal  Evaluacion.csv /tmp/"
   ]
  },
  {
   "cell_type": "code",
   "execution_count": 6,
   "metadata": {},
   "outputs": [
    {
     "name": "stdout",
     "output_type": "stream",
     "text": [
      "-rw-r--r--   1 root supergroup      93121 2021-05-10 02:44 /tmp/Asistencia.csv\n",
      "-rw-r--r--   1 root supergroup     111944 2021-05-10 02:44 /tmp/Evaluacion.csv\n"
     ]
    }
   ],
   "source": [
    "!hdfs dfs -ls /tmp/*csv"
   ]
  },
  {
   "cell_type": "code",
   "execution_count": null,
   "metadata": {},
   "outputs": [],
   "source": [
    "# 2. Cree dos tablas SparkSQL y almacene el csv en su correspondiente tabla.\n",
    "# Observación: tenga especial cuidado con los encabezados de los archivos CSV.\n",
    "# Usted puede considerar cambiar los encabezados de los CSV originales\n",
    "# Tu código a continuación..."
   ]
  },
  {
   "cell_type": "code",
   "execution_count": 11,
   "metadata": {
    "collapsed": true,
    "jupyter": {
     "outputs_hidden": true
    }
   },
   "outputs": [
    {
     "ename": "AnalysisException",
     "evalue": "'Unable to infer schema for CSV. It must be specified manually.;'",
     "output_type": "error",
     "traceback": [
      "\u001b[0;31m---------------------------------------------------------------------------\u001b[0m",
      "\u001b[0;31mPy4JJavaError\u001b[0m                             Traceback (most recent call last)",
      "\u001b[0;32m/usr/local/spark/python/pyspark/sql/utils.py\u001b[0m in \u001b[0;36mdeco\u001b[0;34m(*a, **kw)\u001b[0m\n\u001b[1;32m     62\u001b[0m         \u001b[0;32mtry\u001b[0m\u001b[0;34m:\u001b[0m\u001b[0;34m\u001b[0m\u001b[0;34m\u001b[0m\u001b[0m\n\u001b[0;32m---> 63\u001b[0;31m             \u001b[0;32mreturn\u001b[0m \u001b[0mf\u001b[0m\u001b[0;34m(\u001b[0m\u001b[0;34m*\u001b[0m\u001b[0ma\u001b[0m\u001b[0;34m,\u001b[0m \u001b[0;34m**\u001b[0m\u001b[0mkw\u001b[0m\u001b[0;34m)\u001b[0m\u001b[0;34m\u001b[0m\u001b[0;34m\u001b[0m\u001b[0m\n\u001b[0m\u001b[1;32m     64\u001b[0m         \u001b[0;32mexcept\u001b[0m \u001b[0mpy4j\u001b[0m\u001b[0;34m.\u001b[0m\u001b[0mprotocol\u001b[0m\u001b[0;34m.\u001b[0m\u001b[0mPy4JJavaError\u001b[0m \u001b[0;32mas\u001b[0m \u001b[0me\u001b[0m\u001b[0;34m:\u001b[0m\u001b[0;34m\u001b[0m\u001b[0;34m\u001b[0m\u001b[0m\n",
      "\u001b[0;32m/usr/local/spark/python/lib/py4j-0.10.7-src.zip/py4j/protocol.py\u001b[0m in \u001b[0;36mget_return_value\u001b[0;34m(answer, gateway_client, target_id, name)\u001b[0m\n\u001b[1;32m    327\u001b[0m                     \u001b[0;34m\"An error occurred while calling {0}{1}{2}.\\n\"\u001b[0m\u001b[0;34m.\u001b[0m\u001b[0;34m\u001b[0m\u001b[0;34m\u001b[0m\u001b[0m\n\u001b[0;32m--> 328\u001b[0;31m                     format(target_id, \".\", name), value)\n\u001b[0m\u001b[1;32m    329\u001b[0m             \u001b[0;32melse\u001b[0m\u001b[0;34m:\u001b[0m\u001b[0;34m\u001b[0m\u001b[0;34m\u001b[0m\u001b[0m\n",
      "\u001b[0;31mPy4JJavaError\u001b[0m: An error occurred while calling o21.sql.\n: org.apache.spark.sql.AnalysisException: Unable to infer schema for CSV. It must be specified manually.;\n\tat org.apache.spark.sql.execution.datasources.DataSource$$anonfun$7.apply(DataSource.scala:199)\n\tat org.apache.spark.sql.execution.datasources.DataSource$$anonfun$7.apply(DataSource.scala:199)\n\tat scala.Option.getOrElse(Option.scala:121)\n\tat org.apache.spark.sql.execution.datasources.DataSource.getOrInferFileFormatSchema(DataSource.scala:198)\n\tat org.apache.spark.sql.execution.datasources.DataSource.resolveRelation(DataSource.scala:387)\n\tat org.apache.spark.sql.execution.command.CreateDataSourceTableCommand.run(createDataSourceTables.scala:78)\n\tat org.apache.spark.sql.execution.command.ExecutedCommandExec.sideEffectResult$lzycompute(commands.scala:70)\n\tat org.apache.spark.sql.execution.command.ExecutedCommandExec.sideEffectResult(commands.scala:68)\n\tat org.apache.spark.sql.execution.command.ExecutedCommandExec.executeCollect(commands.scala:79)\n\tat org.apache.spark.sql.Dataset$$anonfun$6.apply(Dataset.scala:194)\n\tat org.apache.spark.sql.Dataset$$anonfun$6.apply(Dataset.scala:194)\n\tat org.apache.spark.sql.Dataset$$anonfun$52.apply(Dataset.scala:3370)\n\tat org.apache.spark.sql.execution.SQLExecution$$anonfun$withNewExecutionId$1.apply(SQLExecution.scala:80)\n\tat org.apache.spark.sql.execution.SQLExecution$.withSQLConfPropagated(SQLExecution.scala:127)\n\tat org.apache.spark.sql.execution.SQLExecution$.withNewExecutionId(SQLExecution.scala:75)\n\tat org.apache.spark.sql.Dataset.org$apache$spark$sql$Dataset$$withAction(Dataset.scala:3369)\n\tat org.apache.spark.sql.Dataset.<init>(Dataset.scala:194)\n\tat org.apache.spark.sql.Dataset$.ofRows(Dataset.scala:79)\n\tat org.apache.spark.sql.SparkSession.sql(SparkSession.scala:643)\n\tat sun.reflect.NativeMethodAccessorImpl.invoke0(Native Method)\n\tat sun.reflect.NativeMethodAccessorImpl.invoke(NativeMethodAccessorImpl.java:62)\n\tat sun.reflect.DelegatingMethodAccessorImpl.invoke(DelegatingMethodAccessorImpl.java:43)\n\tat java.lang.reflect.Method.invoke(Method.java:498)\n\tat py4j.reflection.MethodInvoker.invoke(MethodInvoker.java:244)\n\tat py4j.reflection.ReflectionEngine.invoke(ReflectionEngine.java:357)\n\tat py4j.Gateway.invoke(Gateway.java:282)\n\tat py4j.commands.AbstractCommand.invokeMethod(AbstractCommand.java:132)\n\tat py4j.commands.CallCommand.execute(CallCommand.java:79)\n\tat py4j.GatewayConnection.run(GatewayConnection.java:238)\n\tat java.lang.Thread.run(Thread.java:748)\n",
      "\nDuring handling of the above exception, another exception occurred:\n",
      "\u001b[0;31mAnalysisException\u001b[0m                         Traceback (most recent call last)",
      "\u001b[0;32m<ipython-input-11-331e6eb14e3f>\u001b[0m in \u001b[0;36m<module>\u001b[0;34m\u001b[0m\n\u001b[1;32m     11\u001b[0m     \u001b[0mpath\u001b[0m \u001b[0;34m'Asistencia.csv'\u001b[0m\u001b[0;34m,\u001b[0m\u001b[0;34m\u001b[0m\u001b[0;34m\u001b[0m\u001b[0m\n\u001b[1;32m     12\u001b[0m     header 'true')\n\u001b[0;32m---> 13\u001b[0;31m \"\"\");\n\u001b[0m",
      "\u001b[0;32m/usr/local/spark/python/pyspark/sql/context.py\u001b[0m in \u001b[0;36msql\u001b[0;34m(self, sqlQuery)\u001b[0m\n\u001b[1;32m    356\u001b[0m         \u001b[0;34m[\u001b[0m\u001b[0mRow\u001b[0m\u001b[0;34m(\u001b[0m\u001b[0mf1\u001b[0m\u001b[0;34m=\u001b[0m\u001b[0;36m1\u001b[0m\u001b[0;34m,\u001b[0m \u001b[0mf2\u001b[0m\u001b[0;34m=\u001b[0m\u001b[0;34mu'row1'\u001b[0m\u001b[0;34m)\u001b[0m\u001b[0;34m,\u001b[0m \u001b[0mRow\u001b[0m\u001b[0;34m(\u001b[0m\u001b[0mf1\u001b[0m\u001b[0;34m=\u001b[0m\u001b[0;36m2\u001b[0m\u001b[0;34m,\u001b[0m \u001b[0mf2\u001b[0m\u001b[0;34m=\u001b[0m\u001b[0;34mu'row2'\u001b[0m\u001b[0;34m)\u001b[0m\u001b[0;34m,\u001b[0m \u001b[0mRow\u001b[0m\u001b[0;34m(\u001b[0m\u001b[0mf1\u001b[0m\u001b[0;34m=\u001b[0m\u001b[0;36m3\u001b[0m\u001b[0;34m,\u001b[0m \u001b[0mf2\u001b[0m\u001b[0;34m=\u001b[0m\u001b[0;34mu'row3'\u001b[0m\u001b[0;34m)\u001b[0m\u001b[0;34m]\u001b[0m\u001b[0;34m\u001b[0m\u001b[0;34m\u001b[0m\u001b[0m\n\u001b[1;32m    357\u001b[0m         \"\"\"\n\u001b[0;32m--> 358\u001b[0;31m         \u001b[0;32mreturn\u001b[0m \u001b[0mself\u001b[0m\u001b[0;34m.\u001b[0m\u001b[0msparkSession\u001b[0m\u001b[0;34m.\u001b[0m\u001b[0msql\u001b[0m\u001b[0;34m(\u001b[0m\u001b[0msqlQuery\u001b[0m\u001b[0;34m)\u001b[0m\u001b[0;34m\u001b[0m\u001b[0;34m\u001b[0m\u001b[0m\n\u001b[0m\u001b[1;32m    359\u001b[0m \u001b[0;34m\u001b[0m\u001b[0m\n\u001b[1;32m    360\u001b[0m     \u001b[0;34m@\u001b[0m\u001b[0msince\u001b[0m\u001b[0;34m(\u001b[0m\u001b[0;36m1.0\u001b[0m\u001b[0;34m)\u001b[0m\u001b[0;34m\u001b[0m\u001b[0;34m\u001b[0m\u001b[0m\n",
      "\u001b[0;32m/usr/local/spark/python/pyspark/sql/session.py\u001b[0m in \u001b[0;36msql\u001b[0;34m(self, sqlQuery)\u001b[0m\n\u001b[1;32m    765\u001b[0m         \u001b[0;34m[\u001b[0m\u001b[0mRow\u001b[0m\u001b[0;34m(\u001b[0m\u001b[0mf1\u001b[0m\u001b[0;34m=\u001b[0m\u001b[0;36m1\u001b[0m\u001b[0;34m,\u001b[0m \u001b[0mf2\u001b[0m\u001b[0;34m=\u001b[0m\u001b[0;34mu'row1'\u001b[0m\u001b[0;34m)\u001b[0m\u001b[0;34m,\u001b[0m \u001b[0mRow\u001b[0m\u001b[0;34m(\u001b[0m\u001b[0mf1\u001b[0m\u001b[0;34m=\u001b[0m\u001b[0;36m2\u001b[0m\u001b[0;34m,\u001b[0m \u001b[0mf2\u001b[0m\u001b[0;34m=\u001b[0m\u001b[0;34mu'row2'\u001b[0m\u001b[0;34m)\u001b[0m\u001b[0;34m,\u001b[0m \u001b[0mRow\u001b[0m\u001b[0;34m(\u001b[0m\u001b[0mf1\u001b[0m\u001b[0;34m=\u001b[0m\u001b[0;36m3\u001b[0m\u001b[0;34m,\u001b[0m \u001b[0mf2\u001b[0m\u001b[0;34m=\u001b[0m\u001b[0;34mu'row3'\u001b[0m\u001b[0;34m)\u001b[0m\u001b[0;34m]\u001b[0m\u001b[0;34m\u001b[0m\u001b[0;34m\u001b[0m\u001b[0m\n\u001b[1;32m    766\u001b[0m         \"\"\"\n\u001b[0;32m--> 767\u001b[0;31m         \u001b[0;32mreturn\u001b[0m \u001b[0mDataFrame\u001b[0m\u001b[0;34m(\u001b[0m\u001b[0mself\u001b[0m\u001b[0;34m.\u001b[0m\u001b[0m_jsparkSession\u001b[0m\u001b[0;34m.\u001b[0m\u001b[0msql\u001b[0m\u001b[0;34m(\u001b[0m\u001b[0msqlQuery\u001b[0m\u001b[0;34m)\u001b[0m\u001b[0;34m,\u001b[0m \u001b[0mself\u001b[0m\u001b[0;34m.\u001b[0m\u001b[0m_wrapped\u001b[0m\u001b[0;34m)\u001b[0m\u001b[0;34m\u001b[0m\u001b[0;34m\u001b[0m\u001b[0m\n\u001b[0m\u001b[1;32m    768\u001b[0m \u001b[0;34m\u001b[0m\u001b[0m\n\u001b[1;32m    769\u001b[0m     \u001b[0;34m@\u001b[0m\u001b[0msince\u001b[0m\u001b[0;34m(\u001b[0m\u001b[0;36m2.0\u001b[0m\u001b[0;34m)\u001b[0m\u001b[0;34m\u001b[0m\u001b[0;34m\u001b[0m\u001b[0m\n",
      "\u001b[0;32m/usr/local/spark/python/lib/py4j-0.10.7-src.zip/py4j/java_gateway.py\u001b[0m in \u001b[0;36m__call__\u001b[0;34m(self, *args)\u001b[0m\n\u001b[1;32m   1255\u001b[0m         \u001b[0manswer\u001b[0m \u001b[0;34m=\u001b[0m \u001b[0mself\u001b[0m\u001b[0;34m.\u001b[0m\u001b[0mgateway_client\u001b[0m\u001b[0;34m.\u001b[0m\u001b[0msend_command\u001b[0m\u001b[0;34m(\u001b[0m\u001b[0mcommand\u001b[0m\u001b[0;34m)\u001b[0m\u001b[0;34m\u001b[0m\u001b[0;34m\u001b[0m\u001b[0m\n\u001b[1;32m   1256\u001b[0m         return_value = get_return_value(\n\u001b[0;32m-> 1257\u001b[0;31m             answer, self.gateway_client, self.target_id, self.name)\n\u001b[0m\u001b[1;32m   1258\u001b[0m \u001b[0;34m\u001b[0m\u001b[0m\n\u001b[1;32m   1259\u001b[0m         \u001b[0;32mfor\u001b[0m \u001b[0mtemp_arg\u001b[0m \u001b[0;32min\u001b[0m \u001b[0mtemp_args\u001b[0m\u001b[0;34m:\u001b[0m\u001b[0;34m\u001b[0m\u001b[0;34m\u001b[0m\u001b[0m\n",
      "\u001b[0;32m/usr/local/spark/python/pyspark/sql/utils.py\u001b[0m in \u001b[0;36mdeco\u001b[0;34m(*a, **kw)\u001b[0m\n\u001b[1;32m     67\u001b[0m                                              e.java_exception.getStackTrace()))\n\u001b[1;32m     68\u001b[0m             \u001b[0;32mif\u001b[0m \u001b[0ms\u001b[0m\u001b[0;34m.\u001b[0m\u001b[0mstartswith\u001b[0m\u001b[0;34m(\u001b[0m\u001b[0;34m'org.apache.spark.sql.AnalysisException: '\u001b[0m\u001b[0;34m)\u001b[0m\u001b[0;34m:\u001b[0m\u001b[0;34m\u001b[0m\u001b[0;34m\u001b[0m\u001b[0m\n\u001b[0;32m---> 69\u001b[0;31m                 \u001b[0;32mraise\u001b[0m \u001b[0mAnalysisException\u001b[0m\u001b[0;34m(\u001b[0m\u001b[0ms\u001b[0m\u001b[0;34m.\u001b[0m\u001b[0msplit\u001b[0m\u001b[0;34m(\u001b[0m\u001b[0;34m': '\u001b[0m\u001b[0;34m,\u001b[0m \u001b[0;36m1\u001b[0m\u001b[0;34m)\u001b[0m\u001b[0;34m[\u001b[0m\u001b[0;36m1\u001b[0m\u001b[0;34m]\u001b[0m\u001b[0;34m,\u001b[0m \u001b[0mstackTrace\u001b[0m\u001b[0;34m)\u001b[0m\u001b[0;34m\u001b[0m\u001b[0;34m\u001b[0m\u001b[0m\n\u001b[0m\u001b[1;32m     70\u001b[0m             \u001b[0;32mif\u001b[0m \u001b[0ms\u001b[0m\u001b[0;34m.\u001b[0m\u001b[0mstartswith\u001b[0m\u001b[0;34m(\u001b[0m\u001b[0;34m'org.apache.spark.sql.catalyst.analysis'\u001b[0m\u001b[0;34m)\u001b[0m\u001b[0;34m:\u001b[0m\u001b[0;34m\u001b[0m\u001b[0;34m\u001b[0m\u001b[0m\n\u001b[1;32m     71\u001b[0m                 \u001b[0;32mraise\u001b[0m \u001b[0mAnalysisException\u001b[0m\u001b[0;34m(\u001b[0m\u001b[0ms\u001b[0m\u001b[0;34m.\u001b[0m\u001b[0msplit\u001b[0m\u001b[0;34m(\u001b[0m\u001b[0;34m': '\u001b[0m\u001b[0;34m,\u001b[0m \u001b[0;36m1\u001b[0m\u001b[0;34m)\u001b[0m\u001b[0;34m[\u001b[0m\u001b[0;36m1\u001b[0m\u001b[0;34m]\u001b[0m\u001b[0;34m,\u001b[0m \u001b[0mstackTrace\u001b[0m\u001b[0;34m)\u001b[0m\u001b[0;34m\u001b[0m\u001b[0;34m\u001b[0m\u001b[0m\n",
      "\u001b[0;31mAnalysisException\u001b[0m: 'Unable to infer schema for CSV. It must be specified manually.;'"
     ]
    }
   ],
   "source": [
    "# Creamos una tabla a partir de datos CSV\n",
    "# Se toma el CSV desde el FS de Hadoop\n",
    "#https://www.learningjournal.guru/courses/spark/spark-foundation-training/spark-sql-database-and-table/\n",
    "#https://spark.apache.org/docs/latest/sql-ref-syntax-ddl.html\n",
    "\n",
    "ContextoSql.sql(\"\"\"\n",
    "CREATE TABLE \n",
    "    Asistencia \n",
    "USING com.databricks.spark.csv \n",
    "OPTIONS (\n",
    "    path 'Asistencia.csv', \n",
    "    header 'true')\n",
    "\"\"\");"
   ]
  },
  {
   "cell_type": "code",
   "execution_count": 7,
   "metadata": {},
   "outputs": [],
   "source": [
    "Asistencia = ContextoSql.read.load('/tmp/Asistencia.csv',\n",
    "                                   format=\"csv\",\n",
    "                                   sep=',',\n",
    "                                   inferSchema='true',\n",
    "                                   header='true')"
   ]
  },
  {
   "cell_type": "code",
   "execution_count": 8,
   "metadata": {},
   "outputs": [
    {
     "name": "stdout",
     "output_type": "stream",
     "text": [
      "root\n",
      " |-- Marca: string (nullable = true)\n",
      " |-- Nombre: string (nullable = true)\n",
      " |-- Equipo_perteneces: string (nullable = true)\n",
      " |-- Equipo_exponer: string (nullable = true)\n",
      "\n"
     ]
    }
   ],
   "source": [
    "Asistencia = Asistencia.withColumnRenamed(\"Marca temporal\",\"Marca\")\\\n",
    ".withColumnRenamed(\"Nombre de usuario\",\"Nombre\")\\\n",
    ".withColumnRenamed(\"Equipo al que perteneces:\",\"Equipo_perteneces\")\\\n",
    ".withColumnRenamed(\"Equipo que va a exponer:\",\"Equipo_exponer\")\n",
    "\n",
    "Asistencia.printSchema()"
   ]
  },
  {
   "cell_type": "code",
   "execution_count": 9,
   "metadata": {},
   "outputs": [],
   "source": [
    "Evaluacion = ContextoSql.read.load('/tmp/Evaluacion.csv',\n",
    "                                   format=\"csv\",\n",
    "                                   sep=',',\n",
    "                                   inferSchema='true',\n",
    "                                   header='true')"
   ]
  },
  {
   "cell_type": "code",
   "execution_count": 10,
   "metadata": {},
   "outputs": [
    {
     "name": "stdout",
     "output_type": "stream",
     "text": [
      "root\n",
      " |-- Marca temporal: string (nullable = true)\n",
      " |-- Nombre de usuario: string (nullable = true)\n",
      " |-- Equipo que vas a evaluar:: string (nullable = true)\n",
      " |-- Introducción: El equipo responde adecuadamente ¿Quiénes son y por qué están aquí?: integer (nullable = true)\n",
      " |-- Equipo: El equipo responde adecuadamente ¿Quiénes están detrás de la idea y cuál es su función?: integer (nullable = true)\n",
      " |-- Problema: El equipo responde adecuadamente ¿Qué problema resolverá?, ¿es realmente un problema?: integer (nullable = true)\n",
      " |-- Ventajas: El equipo responde adecuadamente ¿Por qué su solución es especial?, ¿qué la hace distinta de otras?: integer (nullable = true)\n",
      " |-- Solución: El equipo responde adecuadamente ¿Cómo piensa resolver el problema?: integer (nullable = true)\n",
      " |-- Producto: El equipo responde adecuadamente ¿Cómo funciona el producto o servicio? Muestra algunos ejemplos.: integer (nullable = true)\n",
      " |-- Tracción: El equipo responde adecuadamente si cuenta con clientes que demuestran potencial.: integer (nullable = true)\n",
      " |-- Mercado: El equipo responde conoce, o por lo menos intentar predecir, el tamaño del mercado que impactará.: integer (nullable = true)\n",
      " |-- Competencia: El equipo responde adecuadamente ¿Cuáles son las soluciones alternativas al problema que plantea?: integer (nullable = true)\n",
      " |-- Modelo de negocio: El equipo responde adecuadamente ¿Cómo hará dinero? : integer (nullable = true)\n",
      " |-- Inversión: El equipo responde adecuadamente ¿Cuál es su presupuesto y cuánto espera ganar?: integer (nullable = true)\n",
      " |-- Contacto: El equipo deja los datos al cliente y muestra cómo pueden contactarle.: integer (nullable = true)\n",
      " |-- Exposición: ¿Qué tan coordinados estaban los expositores?: integer (nullable = true)\n",
      " |-- Exposición: ¿Los expositores se expresaron con claridad y se hicieron entender?: integer (nullable = true)\n",
      " |-- Exposición: Las diapositivas son claras y coherentes y apoyaron adecuadamente la exposición.: integer (nullable = true)\n",
      " |-- Suponiendo que eres inversionista, ¿Estarías dispuesto a invertir dinero en este equipo? (esta pregunta no se pondera en la nota): string (nullable = true)\n",
      " |-- Observaciones para el equipo, estas observaciones las debe considerar el equipo para mejorar la siguiente presentación.: string (nullable = true)\n",
      "\n"
     ]
    }
   ],
   "source": [
    "Evaluacion.printSchema()"
   ]
  },
  {
   "cell_type": "code",
   "execution_count": 11,
   "metadata": {},
   "outputs": [
    {
     "name": "stdout",
     "output_type": "stream",
     "text": [
      "root\n",
      " |-- Marca: string (nullable = true)\n",
      " |-- Nombre: string (nullable = true)\n",
      " |-- Equipo_evaluar: string (nullable = true)\n",
      " |-- Introduccion: integer (nullable = true)\n",
      " |-- Equipo: integer (nullable = true)\n",
      " |-- Problema: integer (nullable = true)\n",
      " |-- ventajas: integer (nullable = true)\n",
      " |-- solucion: integer (nullable = true)\n",
      " |-- Producto: integer (nullable = true)\n",
      " |-- Traccion: integer (nullable = true)\n",
      " |-- Mercado: integer (nullable = true)\n",
      " |-- Competencia: integer (nullable = true)\n",
      " |-- Modelo_neg: integer (nullable = true)\n",
      " |-- inversion: integer (nullable = true)\n",
      " |-- contacto: integer (nullable = true)\n",
      " |-- Coordinacion_expo: integer (nullable = true)\n",
      " |-- Expo_claridad: integer (nullable = true)\n",
      " |-- Diapo_clara: integer (nullable = true)\n",
      " |-- Inversionista: string (nullable = true)\n",
      " |-- Observacion: string (nullable = true)\n",
      "\n"
     ]
    }
   ],
   "source": [
    "Evaluacion = Evaluacion.withColumnRenamed(\"Marca temporal\",\"Marca\")\\\n",
    ".withColumnRenamed(\"Nombre de usuario\",\"Nombre\")\\\n",
    ".withColumnRenamed(\"Equipo que vas a evaluar:\",\"Equipo_evaluar\")\\\n",
    ".withColumnRenamed(\"Introducción: El equipo responde adecuadamente ¿Quiénes son y por qué están aquí?\",\"Introduccion\")\\\n",
    ".withColumnRenamed(\"Equipo: El equipo responde adecuadamente ¿Quiénes están detrás de la idea y cuál es su función?\",\"Equipo\")\\\n",
    ".withColumnRenamed(\"Problema: El equipo responde adecuadamente ¿Qué problema resolverá?, ¿es realmente un problema?\",\"Problema\")\\\n",
    ".withColumnRenamed(\"Ventajas: El equipo responde adecuadamente ¿Por qué su solución es especial?, ¿qué la hace distinta de otras?\",\"ventajas\")\\\n",
    ".withColumnRenamed(\"Solución: El equipo responde adecuadamente ¿Cómo piensa resolver el problema?\",\"solucion\")\\\n",
    ".withColumnRenamed(\"Producto: El equipo responde adecuadamente ¿Cómo funciona el producto o servicio? Muestra algunos ejemplos.\",\"Producto\")\\\n",
    ".withColumnRenamed(\"Tracción: El equipo responde adecuadamente si cuenta con clientes que demuestran potencial.\",\"Traccion\")\\\n",
    ".withColumnRenamed(\"Mercado: El equipo responde conoce, o por lo menos intentar predecir, el tamaño del mercado que impactará.\",\"Mercado\")\\\n",
    ".withColumnRenamed(\"Competencia: El equipo responde adecuadamente ¿Cuáles son las soluciones alternativas al problema que plantea?\",\"Competencia\")\\\n",
    ".withColumnRenamed(\"Modelo de negocio: El equipo responde adecuadamente ¿Cómo hará dinero? \",\"Modelo_neg\")\\\n",
    ".withColumnRenamed(\"Inversión: El equipo responde adecuadamente ¿Cuál es su presupuesto y cuánto espera ganar?\",\"inversion\")\\\n",
    ".withColumnRenamed(\"Contacto: El equipo deja los datos al cliente y muestra cómo pueden contactarle.\",\"contacto\")\\\n",
    ".withColumnRenamed(\"Exposición: ¿Qué tan coordinados estaban los expositores?\",\"Coordinacion_expo\")\\\n",
    ".withColumnRenamed(\"Exposición: ¿Los expositores se expresaron con claridad y se hicieron entender?\",\"Expo_claridad\")\\\n",
    ".withColumnRenamed(\"Exposición: Las diapositivas son claras y coherentes y apoyaron adecuadamente la exposición.\",\"Diapo_clara\")\\\n",
    ".withColumnRenamed(\"Suponiendo que eres inversionista, ¿Estarías dispuesto a invertir dinero en este equipo? (esta pregunta no se pondera en la nota)\",\"Inversionista\")\\\n",
    ".withColumnRenamed(\"Observaciones para el equipo, estas observaciones las debe considerar el equipo para mejorar la siguiente presentación.\",\"Observacion\")\n",
    "\n",
    "\n",
    "\n",
    "Evaluacion.printSchema()"
   ]
  },
  {
   "cell_type": "code",
   "execution_count": null,
   "metadata": {},
   "outputs": [],
   "source": [
    "# 2. Consulte el listado total de estudiantes (correos electrónicos) del \n",
    "# curso de Ingeniería de Software, ordenados alfabéticamente\n",
    "# Tu código a continuación..."
   ]
  },
  {
   "cell_type": "code",
   "execution_count": 12,
   "metadata": {},
   "outputs": [],
   "source": [
    "Asistencia.createOrReplaceTempView('VistaAsistencia')"
   ]
  },
  {
   "cell_type": "code",
   "execution_count": 13,
   "metadata": {},
   "outputs": [
    {
     "name": "stdout",
     "output_type": "stream",
     "text": [
      "+--------------------+\n",
      "|              Nombre|\n",
      "+--------------------+\n",
      "| abanolc@unal.edu.co|\n",
      "|acastrillonv@unal...|\n",
      "| aflemag@unal.edu.co|\n",
      "|anapariciom@unal....|\n",
      "|angutierrezb@unal...|\n",
      "|anoriega@unal.edu.co|\n",
      "|auarbelaeza@unal....|\n",
      "| bocampo@unal.edu.co|\n",
      "|cgiraldo@unal.edu.co|\n",
      "|cjfunezg@unal.edu.co|\n",
      "+--------------------+\n",
      "only showing top 10 rows\n",
      "\n"
     ]
    }
   ],
   "source": [
    "ContextoSql.sql(\"\"\"\n",
    "select distinct Nombre\n",
    "from VistaAsistencia\n",
    "order by Nombre\n",
    "\"\"\").show(10)"
   ]
  },
  {
   "cell_type": "code",
   "execution_count": null,
   "metadata": {},
   "outputs": [],
   "source": [
    "# 3. Consulte la cantidad de asistencias registradas por estudiante; además, la fecha y hora de la primera asistencia\n",
    "# y la fecha y hora de la última asistencia\n",
    "# Tu código a continuación..."
   ]
  },
  {
   "cell_type": "code",
   "execution_count": 14,
   "metadata": {},
   "outputs": [
    {
     "name": "stdout",
     "output_type": "stream",
     "text": [
      "+--------------------+--------------+--------------------+--------------------+\n",
      "|              Nombre|cantidad_asist|  primera_asistencia|   ultima_asistencia|\n",
      "+--------------------+--------------+--------------------+--------------------+\n",
      "| abanolc@unal.edu.co|             7|2021/04/08 8:12:1...|2021/04/13 9:37:5...|\n",
      "|acastrillonv@unal...|             8|2021/04/08 8:13:0...|2021/04/13 9:43:1...|\n",
      "| aflemag@unal.edu.co|             8|2021/04/08 8:11:5...|2021/04/13 9:41:5...|\n",
      "|anapariciom@unal....|            10|2021/04/08 8:11:4...|2021/04/13 9:38:5...|\n",
      "|angutierrezb@unal...|             8|2021/04/08 8:19:0...|2021/04/13 9:43:5...|\n",
      "|anoriega@unal.edu.co|             8|2021/04/08 8:15:1...|2021/04/13 9:40:2...|\n",
      "|auarbelaeza@unal....|             8|2021/04/08 8:09:5...|2021/04/13 9:41:0...|\n",
      "| bocampo@unal.edu.co|             8|2021/04/08 8:13:3...|2021/04/13 9:42:1...|\n",
      "|cgiraldo@unal.edu.co|             8|2021/04/08 8:44:2...|2021/04/13 9:56:4...|\n",
      "|cjfunezg@unal.edu.co|             8|2021/04/08 8:12:1...|2021/04/13 9:41:4...|\n",
      "+--------------------+--------------+--------------------+--------------------+\n",
      "only showing top 10 rows\n",
      "\n"
     ]
    }
   ],
   "source": [
    "ContextoSql.sql(\"\"\"\n",
    "select Nombre, Count(Marca) as cantidad_asist, min(Marca) as primera_asistencia, max(Marca) as ultima_asistencia\n",
    "from VistaAsistencia\n",
    "group by Nombre\n",
    "order by Nombre\n",
    "\"\"\").show(10)"
   ]
  },
  {
   "cell_type": "code",
   "execution_count": 15,
   "metadata": {},
   "outputs": [
    {
     "name": "stdout",
     "output_type": "stream",
     "text": [
      "+--------------------+--------------+\n",
      "|              Nombre|cantidad_asist|\n",
      "+--------------------+--------------+\n",
      "|jdroldano@unal.ed...|             1|\n",
      "+--------------------+--------------+\n",
      "\n"
     ]
    }
   ],
   "source": [
    "# 4. Consulte el listado de estudiantes que asistieron a 2 presentaciones o menos (una).\n",
    "# Tu código a continuación...\n",
    "\n",
    "ContextoSql.sql(\"\"\"\n",
    "select Nombre, Count(Marca) as cantidad_asist \n",
    "from VistaAsistencia\n",
    "group by Nombre\n",
    "having cantidad_asist>0 AND cantidad_asist<=2\n",
    "order by Nombre\n",
    "\"\"\").show(10)"
   ]
  },
  {
   "cell_type": "code",
   "execution_count": 24,
   "metadata": {},
   "outputs": [],
   "source": [
    "# 5. Consulte el listado de estudiantes que no asistieron a ninguna presentación.\n",
    "# Tu código a continuación...\n",
    "\n",
    "Evaluacion.createOrReplaceTempView('VistaEvaluacion')\n",
    "\n",
    "# nombres evaluacion sin repetir = Todos los del curso\n",
    "# - nombres asistieron\n",
    "\n",
    "# ------------\n",
    "\n",
    "# Personas que no asistieron\n",
    "\n",
    "\n",
    "#FALTA"
   ]
  },
  {
   "cell_type": "code",
   "execution_count": 98,
   "metadata": {
    "collapsed": true,
    "jupyter": {
     "outputs_hidden": true
    }
   },
   "outputs": [
    {
     "name": "stdout",
     "output_type": "stream",
     "text": [
      "+-------------------+\n",
      "|             Nombre|\n",
      "+-------------------+\n",
      "|wocampo@unal.edu.co|\n",
      "|wocampo@unal.edu.co|\n",
      "|wocampo@unal.edu.co|\n",
      "|wocampo@unal.edu.co|\n",
      "|wocampo@unal.edu.co|\n",
      "|wocampo@unal.edu.co|\n",
      "|wocampo@unal.edu.co|\n",
      "|  tleon@unal.edu.co|\n",
      "|  tleon@unal.edu.co|\n",
      "|  tleon@unal.edu.co|\n",
      "+-------------------+\n",
      "only showing top 10 rows\n",
      "\n"
     ]
    }
   ],
   "source": [
    "ContextoSql.sql(\"\"\"\n",
    "select Nombre \n",
    "from VistaEvaluacion\n",
    "order by Nombre DESC\n",
    "\"\"\").show(10)"
   ]
  },
  {
   "cell_type": "code",
   "execution_count": null,
   "metadata": {},
   "outputs": [],
   "source": [
    "# 6. Consulte los integrantes por cada equipo al que pertenecen.\n",
    "# Tu código a continuación..."
   ]
  },
  {
   "cell_type": "code",
   "execution_count": 17,
   "metadata": {},
   "outputs": [
    {
     "name": "stdout",
     "output_type": "stream",
     "text": [
      "+--------------------+--------------------+\n",
      "|              Nombre|   Equipo_perteneces|\n",
      "+--------------------+--------------------+\n",
      "|angutierrezb@unal...|Pertenezco a: Adm...|\n",
      "| eapenad@unal.edu.co|Pertenezco a: Adm...|\n",
      "|emflorezb@unal.ed...|Pertenezco a: Adm...|\n",
      "|framirezf@unal.ed...|Pertenezco a: Adm...|\n",
      "|jhcordoba@unal.ed...|Pertenezco a: Adm...|\n",
      "| jortize@unal.edu.co|Pertenezco a: Adm...|\n",
      "| kmolano@unal.edu.co|Pertenezco a: Adm...|\n",
      "|lumarinb@unal.edu.co|Pertenezco a: Adm...|\n",
      "|nsalinas@unal.edu.co|Pertenezco a: Adm...|\n",
      "|rmbuilesm@unal.ed...|Pertenezco a: Adm...|\n",
      "|saespinosab@unal....|Pertenezco a: Adm...|\n",
      "|samolinap@unal.ed...|Pertenezco a: Adm...|\n",
      "|sednarvaezna@unal...|Pertenezco a: Adm...|\n",
      "| abanolc@unal.edu.co|Pertenezco a: Ges...|\n",
      "|anapariciom@unal....|Pertenezco a: Ges...|\n",
      "|davgarciava@unal....|Pertenezco a: Ges...|\n",
      "|emlopezr@unal.edu.co|Pertenezco a: Ges...|\n",
      "|favasquezj@unal.e...|Pertenezco a: Ges...|\n",
      "|hriveraa@unal.edu.co|Pertenezco a: Ges...|\n",
      "|jcardonaso@unal.e...|Pertenezco a: Ges...|\n",
      "+--------------------+--------------------+\n",
      "only showing top 20 rows\n",
      "\n"
     ]
    }
   ],
   "source": [
    "ContextoSql.sql(\"\"\"\n",
    "select distinct Nombre, Equipo_perteneces\n",
    "from VistaAsistencia\n",
    "order by Equipo_perteneces, Nombre\n",
    "\"\"\").show()"
   ]
  },
  {
   "cell_type": "code",
   "execution_count": 18,
   "metadata": {},
   "outputs": [
    {
     "name": "stdout",
     "output_type": "stream",
     "text": [
      "+--------------------+--------------------+\n",
      "|   Equipo_perteneces|cantidad_integrantes|\n",
      "+--------------------+--------------------+\n",
      "|Pertenezco a: Adm...|                  13|\n",
      "|Pertenezco a: Ges...|                  11|\n",
      "|Pertenezco a: Ges...|                  12|\n",
      "|Pertenezco a: Ges...|                   9|\n",
      "|Pertenezco a: Lo ...|                  11|\n",
      "|Pertenezco a: Mi ...|                  10|\n",
      "|Pertenezco a: Ser...|                  10|\n",
      "|Pertenezco a: Te ...|                  11|\n",
      "+--------------------+--------------------+\n",
      "\n"
     ]
    }
   ],
   "source": [
    "ContextoSql.sql(\"\"\"\n",
    "select Equipo_perteneces, Count(Nombre) as cantidad_integrantes\n",
    "from (\n",
    "select Distinct Nombre, Equipo_perteneces\n",
    "from VistaAsistencia\n",
    ")\n",
    "group by Equipo_perteneces\n",
    "order by Equipo_perteneces\n",
    "\"\"\").show()"
   ]
  },
  {
   "cell_type": "code",
   "execution_count": null,
   "metadata": {},
   "outputs": [],
   "source": [
    "# 7. Consulte la cantidad de asistentes por presentación, sin considerar los asistentes que pertenecen \n",
    "# al equipo que realizó la presentación.\n",
    "# Tu código a continuación..."
   ]
  },
  {
   "cell_type": "code",
   "execution_count": 19,
   "metadata": {},
   "outputs": [
    {
     "name": "stdout",
     "output_type": "stream",
     "text": [
      "+--------------------+------------------+\n",
      "|      Equipo_exponer|Cantidad_Asistente|\n",
      "+--------------------+------------------+\n",
      "|Expone: Administr...|                70|\n",
      "|Expone: Deserción...|                 3|\n",
      "|Expone: Gestión d...|                52|\n",
      "|Expone: Gestión d...|                53|\n",
      "|Expone: Gestión d...|                52|\n",
      "|Expone: Lo tengo ...|                75|\n",
      "|Expone: Mi Sanand...|                72|\n",
      "|Expone: Servicios...|                76|\n",
      "|Expone: Te lo cam...|                75|\n",
      "+--------------------+------------------+\n",
      "\n"
     ]
    }
   ],
   "source": [
    "ContextoSql.sql(\"\"\"\n",
    "select Equipo_exponer, Count(Nombre) as Cantidad_Asistente\n",
    "from VistaAsistencia\n",
    "where substring(Equipo_exponer,9,4) != substring(Equipo_perteneces,15,4)\n",
    "group by Equipo_exponer\n",
    "order by Equipo_exponer\n",
    "\"\"\").show()\n"
   ]
  },
  {
   "cell_type": "code",
   "execution_count": 26,
   "metadata": {},
   "outputs": [
    {
     "name": "stdout",
     "output_type": "stream",
     "text": [
      "+--------------------+\n",
      "|      Equipo_evaluar|\n",
      "+--------------------+\n",
      "|       Te lo cambio.|\n",
      "|       Te lo cambio.|\n",
      "|       Te lo cambio.|\n",
      "|       Te lo cambio.|\n",
      "|       Te lo cambio.|\n",
      "|       Te lo cambio.|\n",
      "|       Te lo cambio.|\n",
      "|       Te lo cambio.|\n",
      "|       Te lo cambio.|\n",
      "|Lo tengo y te lo ...|\n",
      "|       Te lo cambio.|\n",
      "|       Te lo cambio.|\n",
      "|       Te lo cambio.|\n",
      "|       Te lo cambio.|\n",
      "|       Te lo cambio.|\n",
      "|       Te lo cambio.|\n",
      "|       Te lo cambio.|\n",
      "|       Te lo cambio.|\n",
      "|       Te lo cambio.|\n",
      "|       Te lo cambio.|\n",
      "+--------------------+\n",
      "only showing top 20 rows\n",
      "\n"
     ]
    }
   ],
   "source": [
    "ContextoSql.sql(\"\"\"\n",
    "select Equipo_evaluar\n",
    "from VistaEvaluacion\n",
    "\"\"\").show()\n",
    "\n",
    "#, Count(Nombre) as Cantidad_Asistente\n",
    "#where substring(Equipo_exponer,9,4) != substring(Equipo_perteneces,15,4)\n",
    "#group by Equipo_exponer\n",
    "#order by Equipo_exponer"
   ]
  },
  {
   "cell_type": "code",
   "execution_count": null,
   "metadata": {},
   "outputs": [],
   "source": [
    "# 8. Consutar cuáles integrantes evaluaron a su propio equipo. Estas evaluaciones no serán válidas, pues un\n",
    "# integrante no puede evaluar a su propio equipo.\n",
    "# Tu código a continuación..."
   ]
  },
  {
   "cell_type": "code",
   "execution_count": 98,
   "metadata": {},
   "outputs": [
    {
     "name": "stdout",
     "output_type": "stream",
     "text": [
      "+--------------------+----------------------+----------------------+-----------------------+\n",
      "|              Nombre|llave_equipo_pertenece|llave_Equipo_a_evaluar|Num_veces_evaluo_equipo|\n",
      "+--------------------+----------------------+----------------------+-----------------------+\n",
      "|hriveraa@unal.edu.co|       Gestión de Menú|       Gestión de Menú|                      7|\n",
      "|jhcordoba@unal.ed...|       Administración |       Administración |                      1|\n",
      "|daestradam@unal.e...|       Lo tengo y te l|       Lo tengo y te l|                      8|\n",
      "| jruedat@unal.edu.co|       Servicios a dom|       Servicios a dom|                      8|\n",
      "| kmolano@unal.edu.co|       Administración |       Administración |                      1|\n",
      "|  lmayar@unal.edu.co|       Gestión de prog|       Gestión de prog|                      9|\n",
      "|mcarvajalsa@unal....|       Gestión de Resi|       Gestión de Resi|                      1|\n",
      "|anapariciom@unal....|       Servicios a dom|       Servicios a dom|                      1|\n",
      "+--------------------+----------------------+----------------------+-----------------------+\n",
      "\n"
     ]
    }
   ],
   "source": [
    "ContextoSql.sql(\"\"\"\n",
    "\n",
    "WITH \n",
    "\n",
    "ASISTENCIAS AS (\n",
    "select\n",
    "Equipo_exponer, \n",
    "Equipo_perteneces,\n",
    "Nombre,\n",
    "substring(Equipo_perteneces,15,15) as llave_equipo_pertenece,\n",
    "substring(Equipo_exponer,9,15) as llave_equipo_exponer\n",
    "from VistaAsistencia\n",
    "),   \n",
    "\n",
    "EVALUACION AS (\n",
    "select \n",
    "Nombre,\n",
    "substring(Equipo_evaluar,1,15) as llave_Equipo_a_evaluar,\n",
    "Equipo_evaluar\n",
    "from VistaEvaluacion\n",
    ")\n",
    "\n",
    "    select distinct b1.Nombre,\n",
    "    b1.llave_equipo_pertenece, \n",
    "    b2.llave_Equipo_a_evaluar, \n",
    "    count(*) as Num_veces_evaluo_equipo\n",
    "    from ASISTENCIAS b1\n",
    "    inner join EVALUACION b2 on b1.Nombre = b2.Nombre  AND  b1.llave_equipo_pertenece = b2.llave_Equipo_a_evaluar\n",
    "    group by b1.Nombre, b1.llave_equipo_pertenece, b2.llave_Equipo_a_evaluar\n",
    "\n",
    "\"\"\").show()"
   ]
  },
  {
   "cell_type": "code",
   "execution_count": null,
   "metadata": {},
   "outputs": [],
   "source": [
    "# 9. Consultar la nota promedio por cada ítem (1 al 15), y la nota promedio total del cada equipo. Recuerde que no\n",
    "# son válidas las evaluaciones realizadas por los miembros del mismo equipo.\n",
    "# Tu código a continuación...\n",
    "\n",
    "#Nota: Hay evaluaciones de nombre usuario repetida, ¿Cúal de las evaluaciones se debe escoger? ¿Ambas? --- Tienen diferente hora y calificación\n"
   ]
  },
  {
   "cell_type": "code",
   "execution_count": 37,
   "metadata": {},
   "outputs": [
    {
     "name": "stdout",
     "output_type": "stream",
     "text": [
      "+--------------------+----+----+----+----+----+----+----+----+----+----+----+----+----+----+----+--------------+\n",
      "|      Equipo_evaluar|   a|   b|   c|   d|   e|   f|   g|   h|   i|   j|   k|   l|   m|   n|   o|PROMEDIO_TOTAL|\n",
      "+--------------------+----+----+----+----+----+----+----+----+----+----+----+----+----+----+----+--------------+\n",
      "|Administración de...|4.12|4.41|3.97|3.93|4.19|4.44|4.05|4.42|3.95|4.42|4.13|4.13|4.32|4.22|4.14|          4.19|\n",
      "|Deserción de estu...| 4.5| 5.0| 5.0| 5.0| 4.5| 5.0| 5.0| 4.5| 5.0| 4.5| 4.5| 5.0| 4.5| 4.5| 5.0|          4.77|\n",
      "|Gestión de Menús ...|4.32|3.98|4.57|4.32|4.38|4.02| 4.2|4.22| 4.3|4.64|4.31|4.51|4.46|4.45|4.73|          4.36|\n",
      "|Gestión de Reside...|4.56|4.43|4.64|4.45|4.46|4.12|4.52|4.68|4.42|4.53|4.35|4.65|4.43|4.52|4.41|          4.48|\n",
      "|Gestión de progra...|4.38| 4.4|4.55|3.92|4.34|4.45|4.42| 4.5|4.28|4.32|4.54|4.43|4.45|4.49|4.63|          4.41|\n",
      "|Lo tengo y te lo ...|4.49| 4.6|4.27|4.43|4.42|4.72|4.36|4.25|4.49|4.47|4.36|4.59|4.53| 4.6|4.61|          4.48|\n",
      "|     Mi Sanandresito| 4.2|3.91| 4.3|4.02|4.32|4.32|4.25|4.39|3.52|4.36|4.38|4.63|4.28|4.18|4.13|          4.21|\n",
      "|Servicios a domic...|4.49|4.63|4.51|4.27| 4.5|4.61| 4.1|4.12|4.36|4.27|4.16|4.65|4.49|4.56|4.59|          4.42|\n",
      "|       Te lo cambio.|4.35|4.02|4.22| 4.0|4.44|4.84|4.09|4.09| 4.2|4.32|3.59| 4.5|4.57|4.46|4.55|          4.28|\n",
      "+--------------------+----+----+----+----+----+----+----+----+----+----+----+----+----+----+----+--------------+\n",
      "\n"
     ]
    }
   ],
   "source": [
    "ContextoSql.sql(\"\"\"\n",
    "\n",
    "WITH \n",
    "\n",
    "ASISTENCIAS AS (\n",
    "select *,\n",
    "substring(Equipo_perteneces,15,15) as llave_equipo_pertenece,\n",
    "substring(Equipo_exponer,9,15) as llave_equipo_exponer\n",
    "from VistaAsistencia\n",
    "),\n",
    "\n",
    "EVALUACION AS (\n",
    "select *,\n",
    "substring(Equipo_evaluar,1,15) as llave_Equipo_a_evaluar\n",
    "from VistaEvaluacion\n",
    "),\n",
    "\n",
    "ASISTENTES_VERDADERAS AS (\n",
    "select \n",
    "b1.Nombre,\n",
    "b1.Equipo_perteneces,\n",
    "b2.*\n",
    "\n",
    "from ASISTENCIAS b1 \n",
    "inner join EVALUACION b2 on b1.Nombre = b2.Nombre\n",
    "where b1.llave_equipo_pertenece != b2.llave_Equipo_a_evaluar \n",
    ")\n",
    "\n",
    "    select Equipo_evaluar,\n",
    "    ROUND(AVG(Introduccion),2) as a, \n",
    "    ROUND(AVG(Equipo),2) as b, \n",
    "    ROUND(AVG(Problema),2) as c, \n",
    "    ROUND(AVG(ventajas),2) as d, \n",
    "    ROUND(AVG(Solucion),2) as e,\n",
    "    ROUND(AVG(Producto),2) as f,\n",
    "    ROUND(AVG(Traccion),2) as g,\n",
    "    ROUND(AVG(Mercado),2) as h,\n",
    "    ROUND(AVG(Competencia),2) as i,\n",
    "    ROUND(AVG(Modelo_neg),2) as j,\n",
    "    ROUND(AVG(inversion),2) as k,\n",
    "    ROUND(AVG(contacto),2) as l,\n",
    "    ROUND(AVG(Coordinacion_expo),2) as m, \n",
    "    ROUND(AVG(Expo_claridad),2) as n, \n",
    "    ROUND(AVG(Diapo_clara),2) as o,\n",
    "    ROUND(AVG(Introduccion+Equipo+Problema+ventajas+Solucion+Producto+Traccion+Mercado+Competencia+Modelo_neg+inversion+contacto+Coordinacion_expo+Expo_claridad+Diapo_clara)/15,2) AS PROMEDIO_TOTAL\n",
    "\n",
    "    from ASISTENTES_VERDADERAS\n",
    "    group by Equipo_evaluar\n",
    "    order by Equipo_evaluar\n",
    "\n",
    "\"\"\").show()"
   ]
  },
  {
   "cell_type": "code",
   "execution_count": null,
   "metadata": {},
   "outputs": [],
   "source": [
    "# 10. Consulte el mejor equipo evaluado por cada ítem (según nota promedio. En caso de empate mostrar todos los empatados) \n",
    "# y el mejor equipo según el promedio total.\n",
    "# Tu código a continuación..."
   ]
  },
  {
   "cell_type": "code",
   "execution_count": null,
   "metadata": {},
   "outputs": [],
   "source": []
  },
  {
   "cell_type": "code",
   "execution_count": null,
   "metadata": {},
   "outputs": [],
   "source": [
    "# 11. Consulte el peor equipo evaluado por cada ítem (según nota promedio. En caso de empate mostrar todos los empatados) \n",
    "# y el peor equipo según el promedio total.\n",
    "# Tu código a continuación..."
   ]
  },
  {
   "cell_type": "code",
   "execution_count": 103,
   "metadata": {
    "collapsed": true,
    "jupyter": {
     "outputs_hidden": true
    }
   },
   "outputs": [
    {
     "ename": "ParseException",
     "evalue": "\"\\nno viable alternative at input 'select ['(line 51, pos 11)\\n\\n== SQL ==\\n\\n\\nWITH \\n\\nASISTENCIAS AS (\\nselect *,\\nsubstring(Equipo_perteneces,15,15) as llave_equipo_pertenece,\\nsubstring(Equipo_exponer,9,15) as llave_equipo_exponer\\nfrom VistaAsistencia\\n),\\n\\nEVALUACION AS (\\nselect *,\\nsubstring(Equipo_evaluar,1,15) as llave_Equipo_a_evaluar\\nfrom VistaEvaluacion\\n),\\n\\nASISTENTES_VERDADERAS AS (\\nselect \\nb1.Nombre,\\nb1.Equipo_perteneces,\\nb2.*\\nfrom ASISTENCIAS b1 \\ninner join EVALUACION b2 on b1.Nombre = b2.Nombre\\nwhere b1.llave_equipo_pertenece != b2.llave_Equipo_a_evaluar \\n),\\n\\nPROMEDIOS AS(\\nselect Equipo_evaluar,\\nROUND(AVG(Introduccion),2) as a, \\nROUND(AVG(Equipo),2) as b, \\nROUND(AVG(Problema),2) as c, \\nROUND(AVG(ventajas),2) as d, \\nROUND(AVG(Solucion),2) as e,\\nROUND(AVG(Producto),2) as f,\\nROUND(AVG(Traccion),2) as g,\\nROUND(AVG(Mercado),2) as h,\\nROUND(AVG(Competencia),2) as i,\\nROUND(AVG(Modelo_neg),2) as j,\\nROUND(AVG(inversion),2) as k,\\nROUND(AVG(contacto),2) as l,\\nROUND(AVG(Coordinacion_expo),2) as m, \\nROUND(AVG(Expo_claridad),2) as n, \\nROUND(AVG(Diapo_clara),2) as o,\\nROUND(AVG(Introduccion+Equipo+Problema+ventajas+Solucion+Producto+Traccion+Mercado+Competencia+Modelo_neg+inversion+contacto+Coordinacion_expo+Expo_claridad+Diapo_clara)/15,2) AS PROMEDIO_TOTAL\\nfrom ASISTENTES_VERDADERAS\\ngroup by Equipo_evaluar\\norder by Equipo_evaluar\\n)\\n\\n    select [Te lo cambio.], [Lo tengo y te lo presto.],[Gestión de programas curriculares],[Administración de Inmuebles],[Servicios a domicilio],[Gestión de Menús Ejecutivos],[Gestión de programas curriculares],[Deserción de estudiantes],[Gestión de Residencias y Habitaciones Universitarias.]\\n-----------^^^\\n    from PROMEDIOS\\n    pivot\\n        (\\n        MIN(a)\\n        for Equipo_evaluar IN ([Te lo cambio.], [Lo tengo y te lo presto.],[Gestión de programas curriculares],[Administración de Inmuebles],[Servicios a domicilio],[Gestión de Menús Ejecutivos],[Gestión de programas curriculares],[Deserción de estudiantes],[Gestión de Residencias y Habitaciones Universitarias.])\\n        ) as PV\\n\"",
     "output_type": "error",
     "traceback": [
      "\u001b[0;31m---------------------------------------------------------------------------\u001b[0m",
      "\u001b[0;31mPy4JJavaError\u001b[0m                             Traceback (most recent call last)",
      "\u001b[0;32m/usr/local/spark/python/pyspark/sql/utils.py\u001b[0m in \u001b[0;36mdeco\u001b[0;34m(*a, **kw)\u001b[0m\n\u001b[1;32m     62\u001b[0m         \u001b[0;32mtry\u001b[0m\u001b[0;34m:\u001b[0m\u001b[0;34m\u001b[0m\u001b[0;34m\u001b[0m\u001b[0m\n\u001b[0;32m---> 63\u001b[0;31m             \u001b[0;32mreturn\u001b[0m \u001b[0mf\u001b[0m\u001b[0;34m(\u001b[0m\u001b[0;34m*\u001b[0m\u001b[0ma\u001b[0m\u001b[0;34m,\u001b[0m \u001b[0;34m**\u001b[0m\u001b[0mkw\u001b[0m\u001b[0;34m)\u001b[0m\u001b[0;34m\u001b[0m\u001b[0;34m\u001b[0m\u001b[0m\n\u001b[0m\u001b[1;32m     64\u001b[0m         \u001b[0;32mexcept\u001b[0m \u001b[0mpy4j\u001b[0m\u001b[0;34m.\u001b[0m\u001b[0mprotocol\u001b[0m\u001b[0;34m.\u001b[0m\u001b[0mPy4JJavaError\u001b[0m \u001b[0;32mas\u001b[0m \u001b[0me\u001b[0m\u001b[0;34m:\u001b[0m\u001b[0;34m\u001b[0m\u001b[0;34m\u001b[0m\u001b[0m\n",
      "\u001b[0;32m/usr/local/spark/python/lib/py4j-0.10.7-src.zip/py4j/protocol.py\u001b[0m in \u001b[0;36mget_return_value\u001b[0;34m(answer, gateway_client, target_id, name)\u001b[0m\n\u001b[1;32m    327\u001b[0m                     \u001b[0;34m\"An error occurred while calling {0}{1}{2}.\\n\"\u001b[0m\u001b[0;34m.\u001b[0m\u001b[0;34m\u001b[0m\u001b[0;34m\u001b[0m\u001b[0m\n\u001b[0;32m--> 328\u001b[0;31m                     format(target_id, \".\", name), value)\n\u001b[0m\u001b[1;32m    329\u001b[0m             \u001b[0;32melse\u001b[0m\u001b[0;34m:\u001b[0m\u001b[0;34m\u001b[0m\u001b[0;34m\u001b[0m\u001b[0m\n",
      "\u001b[0;31mPy4JJavaError\u001b[0m: An error occurred while calling o21.sql.\n: org.apache.spark.sql.catalyst.parser.ParseException: \nno viable alternative at input 'select ['(line 51, pos 11)\n\n== SQL ==\n\n\nWITH \n\nASISTENCIAS AS (\nselect *,\nsubstring(Equipo_perteneces,15,15) as llave_equipo_pertenece,\nsubstring(Equipo_exponer,9,15) as llave_equipo_exponer\nfrom VistaAsistencia\n),\n\nEVALUACION AS (\nselect *,\nsubstring(Equipo_evaluar,1,15) as llave_Equipo_a_evaluar\nfrom VistaEvaluacion\n),\n\nASISTENTES_VERDADERAS AS (\nselect \nb1.Nombre,\nb1.Equipo_perteneces,\nb2.*\nfrom ASISTENCIAS b1 \ninner join EVALUACION b2 on b1.Nombre = b2.Nombre\nwhere b1.llave_equipo_pertenece != b2.llave_Equipo_a_evaluar \n),\n\nPROMEDIOS AS(\nselect Equipo_evaluar,\nROUND(AVG(Introduccion),2) as a, \nROUND(AVG(Equipo),2) as b, \nROUND(AVG(Problema),2) as c, \nROUND(AVG(ventajas),2) as d, \nROUND(AVG(Solucion),2) as e,\nROUND(AVG(Producto),2) as f,\nROUND(AVG(Traccion),2) as g,\nROUND(AVG(Mercado),2) as h,\nROUND(AVG(Competencia),2) as i,\nROUND(AVG(Modelo_neg),2) as j,\nROUND(AVG(inversion),2) as k,\nROUND(AVG(contacto),2) as l,\nROUND(AVG(Coordinacion_expo),2) as m, \nROUND(AVG(Expo_claridad),2) as n, \nROUND(AVG(Diapo_clara),2) as o,\nROUND(AVG(Introduccion+Equipo+Problema+ventajas+Solucion+Producto+Traccion+Mercado+Competencia+Modelo_neg+inversion+contacto+Coordinacion_expo+Expo_claridad+Diapo_clara)/15,2) AS PROMEDIO_TOTAL\nfrom ASISTENTES_VERDADERAS\ngroup by Equipo_evaluar\norder by Equipo_evaluar\n)\n\n    select [Te lo cambio.], [Lo tengo y te lo presto.],[Gestión de programas curriculares],[Administración de Inmuebles],[Servicios a domicilio],[Gestión de Menús Ejecutivos],[Gestión de programas curriculares],[Deserción de estudiantes],[Gestión de Residencias y Habitaciones Universitarias.]\n-----------^^^\n    from PROMEDIOS\n    pivot\n        (\n        MIN(a)\n        for Equipo_evaluar IN ([Te lo cambio.], [Lo tengo y te lo presto.],[Gestión de programas curriculares],[Administración de Inmuebles],[Servicios a domicilio],[Gestión de Menús Ejecutivos],[Gestión de programas curriculares],[Deserción de estudiantes],[Gestión de Residencias y Habitaciones Universitarias.])\n        ) as PV\n\n\tat org.apache.spark.sql.catalyst.parser.ParseException.withCommand(ParseDriver.scala:241)\n\tat org.apache.spark.sql.catalyst.parser.AbstractSqlParser.parse(ParseDriver.scala:117)\n\tat org.apache.spark.sql.execution.SparkSqlParser.parse(SparkSqlParser.scala:48)\n\tat org.apache.spark.sql.catalyst.parser.AbstractSqlParser.parsePlan(ParseDriver.scala:69)\n\tat org.apache.spark.sql.SparkSession.sql(SparkSession.scala:643)\n\tat sun.reflect.GeneratedMethodAccessor63.invoke(Unknown Source)\n\tat sun.reflect.DelegatingMethodAccessorImpl.invoke(DelegatingMethodAccessorImpl.java:43)\n\tat java.lang.reflect.Method.invoke(Method.java:498)\n\tat py4j.reflection.MethodInvoker.invoke(MethodInvoker.java:244)\n\tat py4j.reflection.ReflectionEngine.invoke(ReflectionEngine.java:357)\n\tat py4j.Gateway.invoke(Gateway.java:282)\n\tat py4j.commands.AbstractCommand.invokeMethod(AbstractCommand.java:132)\n\tat py4j.commands.CallCommand.execute(CallCommand.java:79)\n\tat py4j.GatewayConnection.run(GatewayConnection.java:238)\n\tat java.lang.Thread.run(Thread.java:748)\n",
      "\nDuring handling of the above exception, another exception occurred:\n",
      "\u001b[0;31mParseException\u001b[0m                            Traceback (most recent call last)",
      "\u001b[0;32m<ipython-input-103-e64faa1e34a0>\u001b[0m in \u001b[0;36m<module>\u001b[0;34m\u001b[0m\n\u001b[1;32m     57\u001b[0m         ) as PV\n\u001b[1;32m     58\u001b[0m \u001b[0;34m\u001b[0m\u001b[0m\n\u001b[0;32m---> 59\u001b[0;31m \"\"\").show()\n\u001b[0m",
      "\u001b[0;32m/usr/local/spark/python/pyspark/sql/context.py\u001b[0m in \u001b[0;36msql\u001b[0;34m(self, sqlQuery)\u001b[0m\n\u001b[1;32m    356\u001b[0m         \u001b[0;34m[\u001b[0m\u001b[0mRow\u001b[0m\u001b[0;34m(\u001b[0m\u001b[0mf1\u001b[0m\u001b[0;34m=\u001b[0m\u001b[0;36m1\u001b[0m\u001b[0;34m,\u001b[0m \u001b[0mf2\u001b[0m\u001b[0;34m=\u001b[0m\u001b[0;34mu'row1'\u001b[0m\u001b[0;34m)\u001b[0m\u001b[0;34m,\u001b[0m \u001b[0mRow\u001b[0m\u001b[0;34m(\u001b[0m\u001b[0mf1\u001b[0m\u001b[0;34m=\u001b[0m\u001b[0;36m2\u001b[0m\u001b[0;34m,\u001b[0m \u001b[0mf2\u001b[0m\u001b[0;34m=\u001b[0m\u001b[0;34mu'row2'\u001b[0m\u001b[0;34m)\u001b[0m\u001b[0;34m,\u001b[0m \u001b[0mRow\u001b[0m\u001b[0;34m(\u001b[0m\u001b[0mf1\u001b[0m\u001b[0;34m=\u001b[0m\u001b[0;36m3\u001b[0m\u001b[0;34m,\u001b[0m \u001b[0mf2\u001b[0m\u001b[0;34m=\u001b[0m\u001b[0;34mu'row3'\u001b[0m\u001b[0;34m)\u001b[0m\u001b[0;34m]\u001b[0m\u001b[0;34m\u001b[0m\u001b[0;34m\u001b[0m\u001b[0m\n\u001b[1;32m    357\u001b[0m         \"\"\"\n\u001b[0;32m--> 358\u001b[0;31m         \u001b[0;32mreturn\u001b[0m \u001b[0mself\u001b[0m\u001b[0;34m.\u001b[0m\u001b[0msparkSession\u001b[0m\u001b[0;34m.\u001b[0m\u001b[0msql\u001b[0m\u001b[0;34m(\u001b[0m\u001b[0msqlQuery\u001b[0m\u001b[0;34m)\u001b[0m\u001b[0;34m\u001b[0m\u001b[0;34m\u001b[0m\u001b[0m\n\u001b[0m\u001b[1;32m    359\u001b[0m \u001b[0;34m\u001b[0m\u001b[0m\n\u001b[1;32m    360\u001b[0m     \u001b[0;34m@\u001b[0m\u001b[0msince\u001b[0m\u001b[0;34m(\u001b[0m\u001b[0;36m1.0\u001b[0m\u001b[0;34m)\u001b[0m\u001b[0;34m\u001b[0m\u001b[0;34m\u001b[0m\u001b[0m\n",
      "\u001b[0;32m/usr/local/spark/python/pyspark/sql/session.py\u001b[0m in \u001b[0;36msql\u001b[0;34m(self, sqlQuery)\u001b[0m\n\u001b[1;32m    765\u001b[0m         \u001b[0;34m[\u001b[0m\u001b[0mRow\u001b[0m\u001b[0;34m(\u001b[0m\u001b[0mf1\u001b[0m\u001b[0;34m=\u001b[0m\u001b[0;36m1\u001b[0m\u001b[0;34m,\u001b[0m \u001b[0mf2\u001b[0m\u001b[0;34m=\u001b[0m\u001b[0;34mu'row1'\u001b[0m\u001b[0;34m)\u001b[0m\u001b[0;34m,\u001b[0m \u001b[0mRow\u001b[0m\u001b[0;34m(\u001b[0m\u001b[0mf1\u001b[0m\u001b[0;34m=\u001b[0m\u001b[0;36m2\u001b[0m\u001b[0;34m,\u001b[0m \u001b[0mf2\u001b[0m\u001b[0;34m=\u001b[0m\u001b[0;34mu'row2'\u001b[0m\u001b[0;34m)\u001b[0m\u001b[0;34m,\u001b[0m \u001b[0mRow\u001b[0m\u001b[0;34m(\u001b[0m\u001b[0mf1\u001b[0m\u001b[0;34m=\u001b[0m\u001b[0;36m3\u001b[0m\u001b[0;34m,\u001b[0m \u001b[0mf2\u001b[0m\u001b[0;34m=\u001b[0m\u001b[0;34mu'row3'\u001b[0m\u001b[0;34m)\u001b[0m\u001b[0;34m]\u001b[0m\u001b[0;34m\u001b[0m\u001b[0;34m\u001b[0m\u001b[0m\n\u001b[1;32m    766\u001b[0m         \"\"\"\n\u001b[0;32m--> 767\u001b[0;31m         \u001b[0;32mreturn\u001b[0m \u001b[0mDataFrame\u001b[0m\u001b[0;34m(\u001b[0m\u001b[0mself\u001b[0m\u001b[0;34m.\u001b[0m\u001b[0m_jsparkSession\u001b[0m\u001b[0;34m.\u001b[0m\u001b[0msql\u001b[0m\u001b[0;34m(\u001b[0m\u001b[0msqlQuery\u001b[0m\u001b[0;34m)\u001b[0m\u001b[0;34m,\u001b[0m \u001b[0mself\u001b[0m\u001b[0;34m.\u001b[0m\u001b[0m_wrapped\u001b[0m\u001b[0;34m)\u001b[0m\u001b[0;34m\u001b[0m\u001b[0;34m\u001b[0m\u001b[0m\n\u001b[0m\u001b[1;32m    768\u001b[0m \u001b[0;34m\u001b[0m\u001b[0m\n\u001b[1;32m    769\u001b[0m     \u001b[0;34m@\u001b[0m\u001b[0msince\u001b[0m\u001b[0;34m(\u001b[0m\u001b[0;36m2.0\u001b[0m\u001b[0;34m)\u001b[0m\u001b[0;34m\u001b[0m\u001b[0;34m\u001b[0m\u001b[0m\n",
      "\u001b[0;32m/usr/local/spark/python/lib/py4j-0.10.7-src.zip/py4j/java_gateway.py\u001b[0m in \u001b[0;36m__call__\u001b[0;34m(self, *args)\u001b[0m\n\u001b[1;32m   1255\u001b[0m         \u001b[0manswer\u001b[0m \u001b[0;34m=\u001b[0m \u001b[0mself\u001b[0m\u001b[0;34m.\u001b[0m\u001b[0mgateway_client\u001b[0m\u001b[0;34m.\u001b[0m\u001b[0msend_command\u001b[0m\u001b[0;34m(\u001b[0m\u001b[0mcommand\u001b[0m\u001b[0;34m)\u001b[0m\u001b[0;34m\u001b[0m\u001b[0;34m\u001b[0m\u001b[0m\n\u001b[1;32m   1256\u001b[0m         return_value = get_return_value(\n\u001b[0;32m-> 1257\u001b[0;31m             answer, self.gateway_client, self.target_id, self.name)\n\u001b[0m\u001b[1;32m   1258\u001b[0m \u001b[0;34m\u001b[0m\u001b[0m\n\u001b[1;32m   1259\u001b[0m         \u001b[0;32mfor\u001b[0m \u001b[0mtemp_arg\u001b[0m \u001b[0;32min\u001b[0m \u001b[0mtemp_args\u001b[0m\u001b[0;34m:\u001b[0m\u001b[0;34m\u001b[0m\u001b[0;34m\u001b[0m\u001b[0m\n",
      "\u001b[0;32m/usr/local/spark/python/pyspark/sql/utils.py\u001b[0m in \u001b[0;36mdeco\u001b[0;34m(*a, **kw)\u001b[0m\n\u001b[1;32m     71\u001b[0m                 \u001b[0;32mraise\u001b[0m \u001b[0mAnalysisException\u001b[0m\u001b[0;34m(\u001b[0m\u001b[0ms\u001b[0m\u001b[0;34m.\u001b[0m\u001b[0msplit\u001b[0m\u001b[0;34m(\u001b[0m\u001b[0;34m': '\u001b[0m\u001b[0;34m,\u001b[0m \u001b[0;36m1\u001b[0m\u001b[0;34m)\u001b[0m\u001b[0;34m[\u001b[0m\u001b[0;36m1\u001b[0m\u001b[0;34m]\u001b[0m\u001b[0;34m,\u001b[0m \u001b[0mstackTrace\u001b[0m\u001b[0;34m)\u001b[0m\u001b[0;34m\u001b[0m\u001b[0;34m\u001b[0m\u001b[0m\n\u001b[1;32m     72\u001b[0m             \u001b[0;32mif\u001b[0m \u001b[0ms\u001b[0m\u001b[0;34m.\u001b[0m\u001b[0mstartswith\u001b[0m\u001b[0;34m(\u001b[0m\u001b[0;34m'org.apache.spark.sql.catalyst.parser.ParseException: '\u001b[0m\u001b[0;34m)\u001b[0m\u001b[0;34m:\u001b[0m\u001b[0;34m\u001b[0m\u001b[0;34m\u001b[0m\u001b[0m\n\u001b[0;32m---> 73\u001b[0;31m                 \u001b[0;32mraise\u001b[0m \u001b[0mParseException\u001b[0m\u001b[0;34m(\u001b[0m\u001b[0ms\u001b[0m\u001b[0;34m.\u001b[0m\u001b[0msplit\u001b[0m\u001b[0;34m(\u001b[0m\u001b[0;34m': '\u001b[0m\u001b[0;34m,\u001b[0m \u001b[0;36m1\u001b[0m\u001b[0;34m)\u001b[0m\u001b[0;34m[\u001b[0m\u001b[0;36m1\u001b[0m\u001b[0;34m]\u001b[0m\u001b[0;34m,\u001b[0m \u001b[0mstackTrace\u001b[0m\u001b[0;34m)\u001b[0m\u001b[0;34m\u001b[0m\u001b[0;34m\u001b[0m\u001b[0m\n\u001b[0m\u001b[1;32m     74\u001b[0m             \u001b[0;32mif\u001b[0m \u001b[0ms\u001b[0m\u001b[0;34m.\u001b[0m\u001b[0mstartswith\u001b[0m\u001b[0;34m(\u001b[0m\u001b[0;34m'org.apache.spark.sql.streaming.StreamingQueryException: '\u001b[0m\u001b[0;34m)\u001b[0m\u001b[0;34m:\u001b[0m\u001b[0;34m\u001b[0m\u001b[0;34m\u001b[0m\u001b[0m\n\u001b[1;32m     75\u001b[0m                 \u001b[0;32mraise\u001b[0m \u001b[0mStreamingQueryException\u001b[0m\u001b[0;34m(\u001b[0m\u001b[0ms\u001b[0m\u001b[0;34m.\u001b[0m\u001b[0msplit\u001b[0m\u001b[0;34m(\u001b[0m\u001b[0;34m': '\u001b[0m\u001b[0;34m,\u001b[0m \u001b[0;36m1\u001b[0m\u001b[0;34m)\u001b[0m\u001b[0;34m[\u001b[0m\u001b[0;36m1\u001b[0m\u001b[0;34m]\u001b[0m\u001b[0;34m,\u001b[0m \u001b[0mstackTrace\u001b[0m\u001b[0;34m)\u001b[0m\u001b[0;34m\u001b[0m\u001b[0;34m\u001b[0m\u001b[0m\n",
      "\u001b[0;31mParseException\u001b[0m: \"\\nno viable alternative at input 'select ['(line 51, pos 11)\\n\\n== SQL ==\\n\\n\\nWITH \\n\\nASISTENCIAS AS (\\nselect *,\\nsubstring(Equipo_perteneces,15,15) as llave_equipo_pertenece,\\nsubstring(Equipo_exponer,9,15) as llave_equipo_exponer\\nfrom VistaAsistencia\\n),\\n\\nEVALUACION AS (\\nselect *,\\nsubstring(Equipo_evaluar,1,15) as llave_Equipo_a_evaluar\\nfrom VistaEvaluacion\\n),\\n\\nASISTENTES_VERDADERAS AS (\\nselect \\nb1.Nombre,\\nb1.Equipo_perteneces,\\nb2.*\\nfrom ASISTENCIAS b1 \\ninner join EVALUACION b2 on b1.Nombre = b2.Nombre\\nwhere b1.llave_equipo_pertenece != b2.llave_Equipo_a_evaluar \\n),\\n\\nPROMEDIOS AS(\\nselect Equipo_evaluar,\\nROUND(AVG(Introduccion),2) as a, \\nROUND(AVG(Equipo),2) as b, \\nROUND(AVG(Problema),2) as c, \\nROUND(AVG(ventajas),2) as d, \\nROUND(AVG(Solucion),2) as e,\\nROUND(AVG(Producto),2) as f,\\nROUND(AVG(Traccion),2) as g,\\nROUND(AVG(Mercado),2) as h,\\nROUND(AVG(Competencia),2) as i,\\nROUND(AVG(Modelo_neg),2) as j,\\nROUND(AVG(inversion),2) as k,\\nROUND(AVG(contacto),2) as l,\\nROUND(AVG(Coordinacion_expo),2) as m, \\nROUND(AVG(Expo_claridad),2) as n, \\nROUND(AVG(Diapo_clara),2) as o,\\nROUND(AVG(Introduccion+Equipo+Problema+ventajas+Solucion+Producto+Traccion+Mercado+Competencia+Modelo_neg+inversion+contacto+Coordinacion_expo+Expo_claridad+Diapo_clara)/15,2) AS PROMEDIO_TOTAL\\nfrom ASISTENTES_VERDADERAS\\ngroup by Equipo_evaluar\\norder by Equipo_evaluar\\n)\\n\\n    select [Te lo cambio.], [Lo tengo y te lo presto.],[Gestión de programas curriculares],[Administración de Inmuebles],[Servicios a domicilio],[Gestión de Menús Ejecutivos],[Gestión de programas curriculares],[Deserción de estudiantes],[Gestión de Residencias y Habitaciones Universitarias.]\\n-----------^^^\\n    from PROMEDIOS\\n    pivot\\n        (\\n        MIN(a)\\n        for Equipo_evaluar IN ([Te lo cambio.], [Lo tengo y te lo presto.],[Gestión de programas curriculares],[Administración de Inmuebles],[Servicios a domicilio],[Gestión de Menús Ejecutivos],[Gestión de programas curriculares],[Deserción de estudiantes],[Gestión de Residencias y Habitaciones Universitarias.])\\n        ) as PV\\n\""
     ]
    }
   ],
   "source": [
    "ContextoSql.sql(\"\"\"\n",
    "\n",
    "WITH \n",
    "\n",
    "ASISTENCIAS AS (\n",
    "select *,\n",
    "substring(Equipo_perteneces,15,15) as llave_equipo_pertenece,\n",
    "substring(Equipo_exponer,9,15) as llave_equipo_exponer\n",
    "from VistaAsistencia\n",
    "),\n",
    "\n",
    "EVALUACION AS (\n",
    "select *,\n",
    "substring(Equipo_evaluar,1,15) as llave_Equipo_a_evaluar\n",
    "from VistaEvaluacion\n",
    "),\n",
    "\n",
    "ASISTENTES_VERDADERAS AS (\n",
    "select \n",
    "b1.Nombre,\n",
    "b1.Equipo_perteneces,\n",
    "b2.*\n",
    "from ASISTENCIAS b1 \n",
    "inner join EVALUACION b2 on b1.Nombre = b2.Nombre\n",
    "where b1.llave_equipo_pertenece != b2.llave_Equipo_a_evaluar \n",
    "),\n",
    "\n",
    "PROMEDIOS AS(\n",
    "select Equipo_evaluar,\n",
    "ROUND(AVG(Introduccion),2) as a, \n",
    "ROUND(AVG(Equipo),2) as b, \n",
    "ROUND(AVG(Problema),2) as c, \n",
    "ROUND(AVG(ventajas),2) as d, \n",
    "ROUND(AVG(Solucion),2) as e,\n",
    "ROUND(AVG(Producto),2) as f,\n",
    "ROUND(AVG(Traccion),2) as g,\n",
    "ROUND(AVG(Mercado),2) as h,\n",
    "ROUND(AVG(Competencia),2) as i,\n",
    "ROUND(AVG(Modelo_neg),2) as j,\n",
    "ROUND(AVG(inversion),2) as k,\n",
    "ROUND(AVG(contacto),2) as l,\n",
    "ROUND(AVG(Coordinacion_expo),2) as m, \n",
    "ROUND(AVG(Expo_claridad),2) as n, \n",
    "ROUND(AVG(Diapo_clara),2) as o,\n",
    "ROUND(AVG(Introduccion+Equipo+Problema+ventajas+Solucion+Producto+Traccion+Mercado+Competencia+Modelo_neg+inversion+contacto+Coordinacion_expo+Expo_claridad+Diapo_clara)/15,2) AS PROMEDIO_TOTAL\n",
    "from ASISTENTES_VERDADERAS\n",
    "group by Equipo_evaluar\n",
    "order by Equipo_evaluar\n",
    ")\n",
    "\n",
    "    select [Te lo cambio.], [Lo tengo y te lo presto.],[Gestión de programas curriculares],[Administración de Inmuebles],[Servicios a domicilio],[Gestión de Menús Ejecutivos],[Gestión de programas curriculares],[Deserción de estudiantes],[Gestión de Residencias y Habitaciones Universitarias.]\n",
    "    from PROMEDIOS\n",
    "    pivot\n",
    "        (\n",
    "        MIN(a)\n",
    "        for Equipo_evaluar IN ([Te lo cambio.], [Lo tengo y te lo presto.],[Gestión de programas curriculares],[Administración de Inmuebles],[Servicios a domicilio],[Gestión de Menús Ejecutivos],[Gestión de programas curriculares],[Deserción de estudiantes],[Gestión de Residencias y Habitaciones Universitarias.])\n",
    "        ) as PV\n",
    "\n",
    "\"\"\").show()"
   ]
  },
  {
   "cell_type": "code",
   "execution_count": null,
   "metadata": {},
   "outputs": [],
   "source": [
    "# Depronto con pivot\n",
    "\n",
    "#pivot\n",
    "#        (\n",
    "#        MIN(a)\n",
    "#        for Equipo_a IN (\"Te lo cambio.\", \"Lo tengo y te lo presto.\",\"Gestión de programas curriculares\",\"Administración de Inmuebles\",\"Servicios a domicilio\",\"Gestión de Menús Ejecutivos\",\"Gestión de programas curriculares\",\"Deserción de estudiantes\",\"Gestión de Residencias y Habitaciones Universitarias.\")\n",
    "#        ) as PV\n",
    "\n",
    "\n",
    "select Equipo_evaluar as Equipo_a \n",
    "    from PROMEDIOS\n",
    "    where (a = (\n",
    "    select MIN(a) as min_a\n",
    "    from PROMEDIOS\n",
    "    ))\n",
    "    order by a ASC\n",
    "\n",
    "\"\"\").show()"
   ]
  },
  {
   "cell_type": "code",
   "execution_count": null,
   "metadata": {},
   "outputs": [],
   "source": [
    "# 12. Consulte la lista de estudiantes con la correspondiente nota obtenida en la presentación \n",
    "# (nota promedio total de la evaluación obtenida por el equipo)\n",
    "# Tu código a continuación..."
   ]
  },
  {
   "cell_type": "code",
   "execution_count": 39,
   "metadata": {},
   "outputs": [
    {
     "name": "stdout",
     "output_type": "stream",
     "text": [
      "+--------------------+--------------+\n",
      "|            Nombre_a|PROMEDIO_TOTAL|\n",
      "+--------------------+--------------+\n",
      "| abanolc@unal.edu.co|          3.76|\n",
      "|acastrillonv@unal...|          3.99|\n",
      "| aflemag@unal.edu.co|          4.33|\n",
      "|anapariciom@unal....|          4.12|\n",
      "|angutierrezb@unal...|          4.22|\n",
      "|anoriega@unal.edu.co|          4.62|\n",
      "|auarbelaeza@unal....|          4.36|\n",
      "| bocampo@unal.edu.co|          4.19|\n",
      "|cgiraldo@unal.edu.co|          3.43|\n",
      "|cjfunezg@unal.edu.co|          4.33|\n",
      "|cquinchiar@unal.e...|           4.5|\n",
      "| dadazam@unal.edu.co|          4.47|\n",
      "|daestradam@unal.e...|          4.04|\n",
      "|davgarciava@unal....|          4.22|\n",
      "|dballesteroso@una...|          4.77|\n",
      "|  dbrito@unal.edu.co|          4.66|\n",
      "|dcadavid@unal.edu.co|          4.75|\n",
      "|dcardonaal@unal.e...|          4.09|\n",
      "|dchavarriar@unal....|          4.92|\n",
      "|dgarciabl@unal.ed...|          4.31|\n",
      "+--------------------+--------------+\n",
      "only showing top 20 rows\n",
      "\n"
     ]
    }
   ],
   "source": [
    "ContextoSql.sql(\"\"\"\n",
    "\n",
    "WITH \n",
    "\n",
    "ASISTENCIAS AS (\n",
    "select *,\n",
    "substring(Equipo_perteneces,15,15) as llave_equipo_pertenece,\n",
    "substring(Equipo_exponer,9,15) as llave_equipo_exponer\n",
    "from VistaAsistencia\n",
    "),\n",
    "\n",
    "EVALUACION AS (\n",
    "select *,\n",
    "substring(Equipo_evaluar,1,15) as llave_Equipo_a_evaluar\n",
    "from VistaEvaluacion\n",
    "),\n",
    "\n",
    "ASISTENTES_VERDADERAS AS (\n",
    "select \n",
    "b1.Nombre as Nombre_a,\n",
    "b1.Equipo_perteneces,\n",
    "b2.*\n",
    "\n",
    "from ASISTENCIAS b1 \n",
    "inner join EVALUACION b2 on b1.Nombre = b2.Nombre\n",
    "where b1.llave_equipo_pertenece != b2.llave_Equipo_a_evaluar \n",
    ")\n",
    "\n",
    "    select Nombre_a,\n",
    "    ROUND(AVG(Introduccion+Equipo+Problema+ventajas+Solucion+Producto+Traccion+Mercado+Competencia+Modelo_neg+inversion+contacto+Coordinacion_expo+Expo_claridad+Diapo_clara)/15,2) AS PROMEDIO_TOTAL\n",
    "    from ASISTENTES_VERDADERAS\n",
    "    group by Nombre_a\n",
    "    order by Nombre_a\n",
    "\n",
    "\"\"\").show()"
   ]
  },
  {
   "cell_type": "code",
   "execution_count": null,
   "metadata": {},
   "outputs": [],
   "source": []
  }
 ],
 "metadata": {
  "kernelspec": {
   "display_name": "Python 3",
   "language": "python",
   "name": "python3"
  },
  "language_info": {
   "codemirror_mode": {
    "name": "ipython",
    "version": 3
   },
   "file_extension": ".py",
   "mimetype": "text/x-python",
   "name": "python",
   "nbconvert_exporter": "python",
   "pygments_lexer": "ipython3",
   "version": "3.6.9"
  }
 },
 "nbformat": 4,
 "nbformat_minor": 4
}
